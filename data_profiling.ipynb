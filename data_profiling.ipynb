{
 "cells": [
  {
   "cell_type": "code",
   "execution_count": 3,
   "metadata": {
    "editable": true
   },
   "outputs": [],
   "source": [
    "from pyspark.sql import SparkSession\n",
    "import os\n",
    "import configparser\n"
   ]
  },
  {
   "cell_type": "code",
   "execution_count": 4,
   "metadata": {
    "editable": true
   },
   "outputs": [],
   "source": [
    "config = configparser.ConfigParser()\n",
    "\n",
    "#Normally this file should be in ~/.aws/credentials\n",
    "config.read_file(open('dl.cfg'))\n",
    "\n",
    "os.environ[\"AWS_ACCESS_KEY_ID\"] = config['AWS']['AWS_ACCESS_KEY_ID']\n",
    "os.environ[\"AWS_SECRET_ACCESS_KEY\"] = config['AWS']['AWS_SECRET_ACCESS_KEY']"
   ]
  },
  {
   "cell_type": "markdown",
   "metadata": {
    "editable": true
   },
   "source": [
    "# Explore S3 path structure before doing Schema-on-Read"
   ]
  },
  {
   "cell_type": "code",
   "execution_count": 5,
   "metadata": {
    "editable": true
   },
   "outputs": [],
   "source": [
    "import boto3"
   ]
  },
  {
   "cell_type": "code",
   "execution_count": 6,
   "metadata": {
    "editable": true
   },
   "outputs": [],
   "source": [
    "s3_resrc = boto3.resource('s3',\n",
    "                            region_name='us-west-2',\n",
    "                            aws_access_key_id=os.environ[\"AWS_ACCESS_KEY_ID\"],\n",
    "                            aws_secret_access_key=os.environ[\"AWS_SECRET_ACCESS_KEY\"])"
   ]
  },
  {
   "cell_type": "code",
   "execution_count": 7,
   "metadata": {
    "editable": true
   },
   "outputs": [
    {
     "name": "stdout",
     "output_type": "stream",
     "text": [
      "refer S3 done\n"
     ]
    }
   ],
   "source": [
    "s3_log_data = s3_resrc.Bucket(\"udacity-dend\").objects.filter(Prefix=\"log-data/\")\n",
    "print(\"refer S3 done\")"
   ]
  },
  {
   "cell_type": "code",
   "execution_count": 8,
   "metadata": {
    "editable": true
   },
   "outputs": [
    {
     "name": "stdout",
     "output_type": "stream",
     "text": [
      "s3.ObjectSummary(bucket_name='udacity-dend', key='log-data/')\n",
      "s3.ObjectSummary(bucket_name='udacity-dend', key='log-data/2018/11/2018-11-01-events.json')\n",
      "s3.ObjectSummary(bucket_name='udacity-dend', key='log-data/2018/11/2018-11-02-events.json')\n",
      "s3.ObjectSummary(bucket_name='udacity-dend', key='log-data/2018/11/2018-11-03-events.json')\n",
      "s3.ObjectSummary(bucket_name='udacity-dend', key='log-data/2018/11/2018-11-04-events.json')\n",
      "s3.ObjectSummary(bucket_name='udacity-dend', key='log-data/2018/11/2018-11-05-events.json')\n",
      "s3.ObjectSummary(bucket_name='udacity-dend', key='log-data/2018/11/2018-11-06-events.json')\n",
      "s3.ObjectSummary(bucket_name='udacity-dend', key='log-data/2018/11/2018-11-07-events.json')\n",
      "s3.ObjectSummary(bucket_name='udacity-dend', key='log-data/2018/11/2018-11-08-events.json')\n",
      "s3.ObjectSummary(bucket_name='udacity-dend', key='log-data/2018/11/2018-11-09-events.json')\n",
      "s3.ObjectSummary(bucket_name='udacity-dend', key='log-data/2018/11/2018-11-10-events.json')\n",
      "s3.ObjectSummary(bucket_name='udacity-dend', key='log-data/2018/11/2018-11-11-events.json')\n",
      "s3.ObjectSummary(bucket_name='udacity-dend', key='log-data/2018/11/2018-11-12-events.json')\n",
      "s3.ObjectSummary(bucket_name='udacity-dend', key='log-data/2018/11/2018-11-13-events.json')\n",
      "s3.ObjectSummary(bucket_name='udacity-dend', key='log-data/2018/11/2018-11-14-events.json')\n",
      "s3.ObjectSummary(bucket_name='udacity-dend', key='log-data/2018/11/2018-11-15-events.json')\n",
      "s3.ObjectSummary(bucket_name='udacity-dend', key='log-data/2018/11/2018-11-16-events.json')\n",
      "s3.ObjectSummary(bucket_name='udacity-dend', key='log-data/2018/11/2018-11-17-events.json')\n",
      "s3.ObjectSummary(bucket_name='udacity-dend', key='log-data/2018/11/2018-11-18-events.json')\n",
      "s3.ObjectSummary(bucket_name='udacity-dend', key='log-data/2018/11/2018-11-19-events.json')\n",
      "s3.ObjectSummary(bucket_name='udacity-dend', key='log-data/2018/11/2018-11-20-events.json')\n"
     ]
    }
   ],
   "source": [
    "for idx, _each in enumerate(s3_log_data):\n",
    "    print(_each)\n",
    "    if idx == 20:\n",
    "        break"
   ]
  },
  {
   "cell_type": "code",
   "execution_count": 9,
   "metadata": {
    "editable": true
   },
   "outputs": [
    {
     "name": "stdout",
     "output_type": "stream",
     "text": [
      "refer s3_song_data done\n"
     ]
    }
   ],
   "source": [
    "s3_song_data = s3_resrc.Bucket(\"udacity-dend\").objects.filter(Prefix=\"song-data/\")\n",
    "print(\"refer s3_song_data done\")"
   ]
  },
  {
   "cell_type": "code",
   "execution_count": 10,
   "metadata": {
    "editable": true
   },
   "outputs": [
    {
     "name": "stdout",
     "output_type": "stream",
     "text": [
      "s3.ObjectSummary(bucket_name='udacity-dend', key='song-data/')\n",
      "s3.ObjectSummary(bucket_name='udacity-dend', key='song-data/A/A/A/TRAAAAK128F9318786.json')\n",
      "s3.ObjectSummary(bucket_name='udacity-dend', key='song-data/A/A/A/TRAAAAV128F421A322.json')\n",
      "s3.ObjectSummary(bucket_name='udacity-dend', key='song-data/A/A/A/TRAAABD128F429CF47.json')\n",
      "s3.ObjectSummary(bucket_name='udacity-dend', key='song-data/A/A/A/TRAAACN128F9355673.json')\n",
      "s3.ObjectSummary(bucket_name='udacity-dend', key='song-data/A/A/A/TRAAAEA128F935A30D.json')\n",
      "s3.ObjectSummary(bucket_name='udacity-dend', key='song-data/A/A/A/TRAAAED128E0783FAB.json')\n",
      "s3.ObjectSummary(bucket_name='udacity-dend', key='song-data/A/A/A/TRAAAEM128F93347B9.json')\n",
      "s3.ObjectSummary(bucket_name='udacity-dend', key='song-data/A/A/A/TRAAAEW128F42930C0.json')\n",
      "s3.ObjectSummary(bucket_name='udacity-dend', key='song-data/A/A/A/TRAAAFD128F92F423A.json')\n",
      "s3.ObjectSummary(bucket_name='udacity-dend', key='song-data/A/A/A/TRAAAGR128F425B14B.json')\n",
      "s3.ObjectSummary(bucket_name='udacity-dend', key='song-data/A/A/A/TRAAAHD128F42635A5.json')\n",
      "s3.ObjectSummary(bucket_name='udacity-dend', key='song-data/A/A/A/TRAAAHJ128F931194C.json')\n",
      "s3.ObjectSummary(bucket_name='udacity-dend', key='song-data/A/A/A/TRAAAHZ128E0799171.json')\n",
      "s3.ObjectSummary(bucket_name='udacity-dend', key='song-data/A/A/A/TRAAAIR128F1480971.json')\n",
      "s3.ObjectSummary(bucket_name='udacity-dend', key='song-data/A/A/A/TRAAAJN128F428E437.json')\n",
      "s3.ObjectSummary(bucket_name='udacity-dend', key='song-data/A/A/A/TRAAAND12903CD1F1B.json')\n",
      "s3.ObjectSummary(bucket_name='udacity-dend', key='song-data/A/A/A/TRAAANK128F428B515.json')\n",
      "s3.ObjectSummary(bucket_name='udacity-dend', key='song-data/A/A/A/TRAAAOF128F429C156.json')\n",
      "s3.ObjectSummary(bucket_name='udacity-dend', key='song-data/A/A/A/TRAAAPK128E0786D96.json')\n",
      "s3.ObjectSummary(bucket_name='udacity-dend', key='song-data/A/A/A/TRAAAQN128F9353BA0.json')\n"
     ]
    }
   ],
   "source": [
    "for idx, _each in enumerate(s3_song_data):\n",
    "    print(_each)\n",
    "    if idx == 20:\n",
    "        break"
   ]
  },
  {
   "cell_type": "markdown",
   "metadata": {
    "editable": true
   },
   "source": [
    "# Create Spark Session with Hadoop AWS package"
   ]
  },
  {
   "cell_type": "code",
   "execution_count": 11,
   "metadata": {
    "editable": true
   },
   "outputs": [
    {
     "name": "stdout",
     "output_type": "stream",
     "text": [
      "Create Spark Session completed\n"
     ]
    }
   ],
   "source": [
    "spark = SparkSession.builder\\\n",
    "                    .config(\"spark.jars.packages\", \"org.apache.hadoop:hadoop-aws:2.7.0\")\\\n",
    "                    .getOrCreate()\n",
    "\n",
    "print(\"Create Spark Session completed\")"
   ]
  },
  {
   "cell_type": "markdown",
   "metadata": {
    "editable": true
   },
   "source": [
    "# Profiling data structure in each S3 Bucket"
   ]
  },
  {
   "cell_type": "code",
   "execution_count": 12,
   "metadata": {
    "editable": true
   },
   "outputs": [],
   "source": [
    "s3_bucket_root_path = \"s3a://udacity-dend/\"\n",
    "\n",
    "song_data_root_path = s3_bucket_root_path + \"song-data/\"\n",
    "\n",
    "song_data_postfix_path = \"*/*/*/*.json\"\n",
    "\n",
    "log_data_root_path = s3_bucket_root_path + \"log-data/\"\n",
    "\n",
    "log_data_postfix_path = \"*/*/*.json\"\n",
    "\n",
    "song_data_full_path = os.path.join(s3_bucket_root_path,\"song-data/\",song_data_postfix_path)\n",
    "log_data_full_path = os.path.join(s3_bucket_root_path, \"log-data/\",log_data_postfix_path)\n",
    "\n",
    "song_data_sample_path = os.path.join(s3_bucket_root_path,\"song-data/A/A/A/*.json\")\n",
    "log_data_sample_path = os.path.join(s3_bucket_root_path,\"log-data/2018/11/*.json\")                   "
   ]
  },
  {
   "cell_type": "markdown",
   "metadata": {
    "editable": true
   },
   "source": [
    "### song-data"
   ]
  },
  {
   "cell_type": "code",
   "execution_count": 13,
   "metadata": {
    "editable": true
   },
   "outputs": [
    {
     "name": "stdout",
     "output_type": "stream",
     "text": [
      "Reading :  s3a://udacity-dend/song-data/A/A/A/*.json\n",
      "Finish reading JSON from S3\n"
     ]
    }
   ],
   "source": [
    "print(\"Reading : \", song_data_sample_path)\n",
    "song_df = spark.read.json(song_data_sample_path).drop_duplicates()\n",
    "print(\"Finish reading JSON from S3\")"
   ]
  },
  {
   "cell_type": "code",
   "execution_count": 14,
   "metadata": {
    "editable": true
   },
   "outputs": [
    {
     "name": "stdout",
     "output_type": "stream",
     "text": [
      "root\n",
      " |-- artist_id: string (nullable = true)\n",
      " |-- artist_latitude: double (nullable = true)\n",
      " |-- artist_location: string (nullable = true)\n",
      " |-- artist_longitude: double (nullable = true)\n",
      " |-- artist_name: string (nullable = true)\n",
      " |-- duration: double (nullable = true)\n",
      " |-- num_songs: long (nullable = true)\n",
      " |-- song_id: string (nullable = true)\n",
      " |-- title: string (nullable = true)\n",
      " |-- year: long (nullable = true)\n",
      "\n"
     ]
    }
   ],
   "source": [
    "song_df.printSchema()"
   ]
  },
  {
   "cell_type": "code",
   "execution_count": 15,
   "metadata": {
    "editable": true
   },
   "outputs": [
    {
     "data": {
      "text/html": [
       "<div>\n",
       "<style scoped>\n",
       "    .dataframe tbody tr th:only-of-type {\n",
       "        vertical-align: middle;\n",
       "    }\n",
       "\n",
       "    .dataframe tbody tr th {\n",
       "        vertical-align: top;\n",
       "    }\n",
       "\n",
       "    .dataframe thead th {\n",
       "        text-align: right;\n",
       "    }\n",
       "</style>\n",
       "<table border=\"1\" class=\"dataframe\">\n",
       "  <thead>\n",
       "    <tr style=\"text-align: right;\">\n",
       "      <th></th>\n",
       "      <th>artist_id</th>\n",
       "      <th>artist_latitude</th>\n",
       "      <th>artist_location</th>\n",
       "      <th>artist_longitude</th>\n",
       "      <th>artist_name</th>\n",
       "      <th>duration</th>\n",
       "      <th>num_songs</th>\n",
       "      <th>song_id</th>\n",
       "      <th>title</th>\n",
       "      <th>year</th>\n",
       "    </tr>\n",
       "  </thead>\n",
       "  <tbody>\n",
       "    <tr>\n",
       "      <th>0</th>\n",
       "      <td>ARJNIUY12298900C91</td>\n",
       "      <td>NaN</td>\n",
       "      <td></td>\n",
       "      <td>NaN</td>\n",
       "      <td>Adelitas Way</td>\n",
       "      <td>213.94240</td>\n",
       "      <td>1</td>\n",
       "      <td>SOBLFFE12AF72AA5BA</td>\n",
       "      <td>Scream</td>\n",
       "      <td>2009</td>\n",
       "    </tr>\n",
       "    <tr>\n",
       "      <th>1</th>\n",
       "      <td>AR10USD1187B99F3F1</td>\n",
       "      <td>NaN</td>\n",
       "      <td>Burlington, Ontario, Canada</td>\n",
       "      <td>NaN</td>\n",
       "      <td>Tweeterfriendly Music</td>\n",
       "      <td>189.57016</td>\n",
       "      <td>1</td>\n",
       "      <td>SOHKNRJ12A6701D1F8</td>\n",
       "      <td>Drop of Rain</td>\n",
       "      <td>0</td>\n",
       "    </tr>\n",
       "    <tr>\n",
       "      <th>2</th>\n",
       "      <td>AR0MWD61187B9B2B12</td>\n",
       "      <td>NaN</td>\n",
       "      <td></td>\n",
       "      <td>NaN</td>\n",
       "      <td>International Noise Conspiracy</td>\n",
       "      <td>195.39546</td>\n",
       "      <td>1</td>\n",
       "      <td>SOHOZBI12A8C132E3C</td>\n",
       "      <td>Smash It Up</td>\n",
       "      <td>2000</td>\n",
       "    </tr>\n",
       "    <tr>\n",
       "      <th>3</th>\n",
       "      <td>ARCLYBR1187FB53913</td>\n",
       "      <td>37.54703</td>\n",
       "      <td>San Mateo, CA</td>\n",
       "      <td>-122.31483</td>\n",
       "      <td>Neal Schon</td>\n",
       "      <td>304.56118</td>\n",
       "      <td>1</td>\n",
       "      <td>SOOVHYF12A8C134892</td>\n",
       "      <td>I'll Be Waiting</td>\n",
       "      <td>1989</td>\n",
       "    </tr>\n",
       "    <tr>\n",
       "      <th>4</th>\n",
       "      <td>ARGE7G11187FB37E05</td>\n",
       "      <td>NaN</td>\n",
       "      <td>Brooklyn, NY</td>\n",
       "      <td>NaN</td>\n",
       "      <td>Cyndi Lauper</td>\n",
       "      <td>240.63955</td>\n",
       "      <td>1</td>\n",
       "      <td>SONRWUU12AF72A4283</td>\n",
       "      <td>Into The Nightlife</td>\n",
       "      <td>2008</td>\n",
       "    </tr>\n",
       "    <tr>\n",
       "      <th>5</th>\n",
       "      <td>ARKYKXP11F50C47A6A</td>\n",
       "      <td>NaN</td>\n",
       "      <td></td>\n",
       "      <td>NaN</td>\n",
       "      <td>The Supersuckers</td>\n",
       "      <td>160.20853</td>\n",
       "      <td>1</td>\n",
       "      <td>SONQPZK12AB0182D84</td>\n",
       "      <td>Double Wide</td>\n",
       "      <td>0</td>\n",
       "    </tr>\n",
       "    <tr>\n",
       "      <th>6</th>\n",
       "      <td>ARMJAGH1187FB546F3</td>\n",
       "      <td>35.14968</td>\n",
       "      <td>Memphis, TN</td>\n",
       "      <td>-90.04892</td>\n",
       "      <td>The Box Tops</td>\n",
       "      <td>148.03546</td>\n",
       "      <td>1</td>\n",
       "      <td>SOCIWDW12A8C13D406</td>\n",
       "      <td>Soul Deep</td>\n",
       "      <td>1969</td>\n",
       "    </tr>\n",
       "    <tr>\n",
       "      <th>7</th>\n",
       "      <td>ARC1IHZ1187FB4E920</td>\n",
       "      <td>NaN</td>\n",
       "      <td></td>\n",
       "      <td>NaN</td>\n",
       "      <td>Jamie Cullum</td>\n",
       "      <td>246.98730</td>\n",
       "      <td>1</td>\n",
       "      <td>SOXZYWX12A6310ED0C</td>\n",
       "      <td>It's About Time</td>\n",
       "      <td>0</td>\n",
       "    </tr>\n",
       "    <tr>\n",
       "      <th>8</th>\n",
       "      <td>AR9Q9YC1187FB5609B</td>\n",
       "      <td>NaN</td>\n",
       "      <td>New Jersey</td>\n",
       "      <td>NaN</td>\n",
       "      <td>Quest_ Pup_ Kevo</td>\n",
       "      <td>252.94322</td>\n",
       "      <td>1</td>\n",
       "      <td>SOFRDWL12A58A7CEF7</td>\n",
       "      <td>Hit Da Scene</td>\n",
       "      <td>0</td>\n",
       "    </tr>\n",
       "    <tr>\n",
       "      <th>9</th>\n",
       "      <td>ARSVTNL1187B992A91</td>\n",
       "      <td>51.50632</td>\n",
       "      <td>London, England</td>\n",
       "      <td>-0.12714</td>\n",
       "      <td>Jonathan King</td>\n",
       "      <td>129.85424</td>\n",
       "      <td>1</td>\n",
       "      <td>SOEKAZG12AB018837E</td>\n",
       "      <td>I'll Slap Your Face (Entertainment USA Theme)</td>\n",
       "      <td>2001</td>\n",
       "    </tr>\n",
       "  </tbody>\n",
       "</table>\n",
       "</div>"
      ],
      "text/plain": [
       "            artist_id  artist_latitude              artist_location  \\\n",
       "0  ARJNIUY12298900C91              NaN                                \n",
       "1  AR10USD1187B99F3F1              NaN  Burlington, Ontario, Canada   \n",
       "2  AR0MWD61187B9B2B12              NaN                                \n",
       "3  ARCLYBR1187FB53913         37.54703                San Mateo, CA   \n",
       "4  ARGE7G11187FB37E05              NaN                 Brooklyn, NY   \n",
       "5  ARKYKXP11F50C47A6A              NaN                                \n",
       "6  ARMJAGH1187FB546F3         35.14968                  Memphis, TN   \n",
       "7  ARC1IHZ1187FB4E920              NaN                                \n",
       "8  AR9Q9YC1187FB5609B              NaN                   New Jersey   \n",
       "9  ARSVTNL1187B992A91         51.50632              London, England   \n",
       "\n",
       "   artist_longitude                     artist_name   duration  num_songs  \\\n",
       "0               NaN                    Adelitas Way  213.94240          1   \n",
       "1               NaN           Tweeterfriendly Music  189.57016          1   \n",
       "2               NaN  International Noise Conspiracy  195.39546          1   \n",
       "3        -122.31483                      Neal Schon  304.56118          1   \n",
       "4               NaN                    Cyndi Lauper  240.63955          1   \n",
       "5               NaN                The Supersuckers  160.20853          1   \n",
       "6         -90.04892                    The Box Tops  148.03546          1   \n",
       "7               NaN                    Jamie Cullum  246.98730          1   \n",
       "8               NaN                Quest_ Pup_ Kevo  252.94322          1   \n",
       "9          -0.12714                   Jonathan King  129.85424          1   \n",
       "\n",
       "              song_id                                          title  year  \n",
       "0  SOBLFFE12AF72AA5BA                                         Scream  2009  \n",
       "1  SOHKNRJ12A6701D1F8                                   Drop of Rain     0  \n",
       "2  SOHOZBI12A8C132E3C                                    Smash It Up  2000  \n",
       "3  SOOVHYF12A8C134892                                I'll Be Waiting  1989  \n",
       "4  SONRWUU12AF72A4283                             Into The Nightlife  2008  \n",
       "5  SONQPZK12AB0182D84                                    Double Wide     0  \n",
       "6  SOCIWDW12A8C13D406                                      Soul Deep  1969  \n",
       "7  SOXZYWX12A6310ED0C                                It's About Time     0  \n",
       "8  SOFRDWL12A58A7CEF7                                   Hit Da Scene     0  \n",
       "9  SOEKAZG12AB018837E  I'll Slap Your Face (Entertainment USA Theme)  2001  "
      ]
     },
     "execution_count": 15,
     "metadata": {},
     "output_type": "execute_result"
    }
   ],
   "source": [
    "song_df.limit(10).toPandas()"
   ]
  },
  {
   "cell_type": "code",
   "execution_count": 16,
   "metadata": {
    "editable": true
   },
   "outputs": [
    {
     "name": "stdout",
     "output_type": "stream",
     "text": [
      "['artist_id', 'artist_latitude', 'artist_location', 'artist_longitude', 'artist_name', 'duration', 'num_songs', 'song_id', 'title', 'year']\n",
      "root\n",
      " |-- artist_id: string (nullable = true)\n",
      " |-- artist_latitude: double (nullable = true)\n",
      " |-- artist_location: string (nullable = true)\n",
      " |-- artist_longitude: double (nullable = true)\n",
      " |-- artist_name: string (nullable = true)\n",
      " |-- duration: double (nullable = true)\n",
      " |-- num_songs: long (nullable = true)\n",
      " |-- song_id: string (nullable = true)\n",
      " |-- title: string (nullable = true)\n",
      " |-- year: long (nullable = true)\n",
      "\n"
     ]
    }
   ],
   "source": [
    "print(song_df.columns)\n",
    "song_df.printSchema()"
   ]
  },
  {
   "cell_type": "markdown",
   "metadata": {
    "editable": true
   },
   "source": [
    "### Define schema for song"
   ]
  },
  {
   "cell_type": "code",
   "execution_count": 17,
   "metadata": {
    "editable": true
   },
   "outputs": [],
   "source": [
    "import pyspark.sql.functions as F\n",
    "from pyspark.sql.types import StructType, StructField as Fld, DoubleType as Dbl, \\\n",
    "        StringType as Str, IntegerType as Int, DateType as Date, LongType as Long"
   ]
  },
  {
   "cell_type": "code",
   "execution_count": 18,
   "metadata": {
    "editable": true
   },
   "outputs": [
    {
     "name": "stdout",
     "output_type": "stream",
     "text": [
      "Reading :  s3a://udacity-dend/song-data/A/A/A/*.json\n",
      "Finish reading JSON from S3\n"
     ]
    }
   ],
   "source": [
    "song_schema = StructType([\n",
    "    Fld(\"artist_id\", Str()),\n",
    "    Fld(\"artist_latitude\", Dbl()),\n",
    "    Fld(\"artist_location\", Str()),\n",
    "    Fld(\"artist_longitude\", Dbl()),\n",
    "    Fld(\"artist_name\", Str()),\n",
    "    Fld(\"duration\", Dbl()),\n",
    "    Fld(\"num_songs\", Long()),\n",
    "    Fld(\"song_id\", Str()),\n",
    "    Fld(\"title\", Str()),\n",
    "    Fld(\"year\", Long()),\n",
    "])\n",
    "\n",
    "print(\"Reading : \", song_data_sample_path)\n",
    "song_with_schema_df = spark.read.json(song_data_sample_path, schema=song_schema).drop_duplicates()\n",
    "print(\"Finish reading JSON from S3\")"
   ]
  },
  {
   "cell_type": "code",
   "execution_count": 19,
   "metadata": {
    "editable": true
   },
   "outputs": [
    {
     "data": {
      "text/html": [
       "<div>\n",
       "<style scoped>\n",
       "    .dataframe tbody tr th:only-of-type {\n",
       "        vertical-align: middle;\n",
       "    }\n",
       "\n",
       "    .dataframe tbody tr th {\n",
       "        vertical-align: top;\n",
       "    }\n",
       "\n",
       "    .dataframe thead th {\n",
       "        text-align: right;\n",
       "    }\n",
       "</style>\n",
       "<table border=\"1\" class=\"dataframe\">\n",
       "  <thead>\n",
       "    <tr style=\"text-align: right;\">\n",
       "      <th></th>\n",
       "      <th>artist_id</th>\n",
       "      <th>artist_latitude</th>\n",
       "      <th>artist_location</th>\n",
       "      <th>artist_longitude</th>\n",
       "      <th>artist_name</th>\n",
       "      <th>duration</th>\n",
       "      <th>num_songs</th>\n",
       "      <th>song_id</th>\n",
       "      <th>title</th>\n",
       "      <th>year</th>\n",
       "    </tr>\n",
       "  </thead>\n",
       "  <tbody>\n",
       "    <tr>\n",
       "      <th>0</th>\n",
       "      <td>ARJNIUY12298900C91</td>\n",
       "      <td>NaN</td>\n",
       "      <td></td>\n",
       "      <td>NaN</td>\n",
       "      <td>Adelitas Way</td>\n",
       "      <td>213.94240</td>\n",
       "      <td>1</td>\n",
       "      <td>SOBLFFE12AF72AA5BA</td>\n",
       "      <td>Scream</td>\n",
       "      <td>2009</td>\n",
       "    </tr>\n",
       "    <tr>\n",
       "      <th>1</th>\n",
       "      <td>AR10USD1187B99F3F1</td>\n",
       "      <td>NaN</td>\n",
       "      <td>Burlington, Ontario, Canada</td>\n",
       "      <td>NaN</td>\n",
       "      <td>Tweeterfriendly Music</td>\n",
       "      <td>189.57016</td>\n",
       "      <td>1</td>\n",
       "      <td>SOHKNRJ12A6701D1F8</td>\n",
       "      <td>Drop of Rain</td>\n",
       "      <td>0</td>\n",
       "    </tr>\n",
       "    <tr>\n",
       "      <th>2</th>\n",
       "      <td>AR0MWD61187B9B2B12</td>\n",
       "      <td>NaN</td>\n",
       "      <td></td>\n",
       "      <td>NaN</td>\n",
       "      <td>International Noise Conspiracy</td>\n",
       "      <td>195.39546</td>\n",
       "      <td>1</td>\n",
       "      <td>SOHOZBI12A8C132E3C</td>\n",
       "      <td>Smash It Up</td>\n",
       "      <td>2000</td>\n",
       "    </tr>\n",
       "    <tr>\n",
       "      <th>3</th>\n",
       "      <td>ARCLYBR1187FB53913</td>\n",
       "      <td>37.54703</td>\n",
       "      <td>San Mateo, CA</td>\n",
       "      <td>-122.31483</td>\n",
       "      <td>Neal Schon</td>\n",
       "      <td>304.56118</td>\n",
       "      <td>1</td>\n",
       "      <td>SOOVHYF12A8C134892</td>\n",
       "      <td>I'll Be Waiting</td>\n",
       "      <td>1989</td>\n",
       "    </tr>\n",
       "    <tr>\n",
       "      <th>4</th>\n",
       "      <td>ARGE7G11187FB37E05</td>\n",
       "      <td>NaN</td>\n",
       "      <td>Brooklyn, NY</td>\n",
       "      <td>NaN</td>\n",
       "      <td>Cyndi Lauper</td>\n",
       "      <td>240.63955</td>\n",
       "      <td>1</td>\n",
       "      <td>SONRWUU12AF72A4283</td>\n",
       "      <td>Into The Nightlife</td>\n",
       "      <td>2008</td>\n",
       "    </tr>\n",
       "    <tr>\n",
       "      <th>5</th>\n",
       "      <td>ARKYKXP11F50C47A6A</td>\n",
       "      <td>NaN</td>\n",
       "      <td></td>\n",
       "      <td>NaN</td>\n",
       "      <td>The Supersuckers</td>\n",
       "      <td>160.20853</td>\n",
       "      <td>1</td>\n",
       "      <td>SONQPZK12AB0182D84</td>\n",
       "      <td>Double Wide</td>\n",
       "      <td>0</td>\n",
       "    </tr>\n",
       "    <tr>\n",
       "      <th>6</th>\n",
       "      <td>ARMJAGH1187FB546F3</td>\n",
       "      <td>35.14968</td>\n",
       "      <td>Memphis, TN</td>\n",
       "      <td>-90.04892</td>\n",
       "      <td>The Box Tops</td>\n",
       "      <td>148.03546</td>\n",
       "      <td>1</td>\n",
       "      <td>SOCIWDW12A8C13D406</td>\n",
       "      <td>Soul Deep</td>\n",
       "      <td>1969</td>\n",
       "    </tr>\n",
       "    <tr>\n",
       "      <th>7</th>\n",
       "      <td>ARC1IHZ1187FB4E920</td>\n",
       "      <td>NaN</td>\n",
       "      <td></td>\n",
       "      <td>NaN</td>\n",
       "      <td>Jamie Cullum</td>\n",
       "      <td>246.98730</td>\n",
       "      <td>1</td>\n",
       "      <td>SOXZYWX12A6310ED0C</td>\n",
       "      <td>It's About Time</td>\n",
       "      <td>0</td>\n",
       "    </tr>\n",
       "    <tr>\n",
       "      <th>8</th>\n",
       "      <td>AR9Q9YC1187FB5609B</td>\n",
       "      <td>NaN</td>\n",
       "      <td>New Jersey</td>\n",
       "      <td>NaN</td>\n",
       "      <td>Quest_ Pup_ Kevo</td>\n",
       "      <td>252.94322</td>\n",
       "      <td>1</td>\n",
       "      <td>SOFRDWL12A58A7CEF7</td>\n",
       "      <td>Hit Da Scene</td>\n",
       "      <td>0</td>\n",
       "    </tr>\n",
       "    <tr>\n",
       "      <th>9</th>\n",
       "      <td>ARSVTNL1187B992A91</td>\n",
       "      <td>51.50632</td>\n",
       "      <td>London, England</td>\n",
       "      <td>-0.12714</td>\n",
       "      <td>Jonathan King</td>\n",
       "      <td>129.85424</td>\n",
       "      <td>1</td>\n",
       "      <td>SOEKAZG12AB018837E</td>\n",
       "      <td>I'll Slap Your Face (Entertainment USA Theme)</td>\n",
       "      <td>2001</td>\n",
       "    </tr>\n",
       "  </tbody>\n",
       "</table>\n",
       "</div>"
      ],
      "text/plain": [
       "            artist_id  artist_latitude              artist_location  \\\n",
       "0  ARJNIUY12298900C91              NaN                                \n",
       "1  AR10USD1187B99F3F1              NaN  Burlington, Ontario, Canada   \n",
       "2  AR0MWD61187B9B2B12              NaN                                \n",
       "3  ARCLYBR1187FB53913         37.54703                San Mateo, CA   \n",
       "4  ARGE7G11187FB37E05              NaN                 Brooklyn, NY   \n",
       "5  ARKYKXP11F50C47A6A              NaN                                \n",
       "6  ARMJAGH1187FB546F3         35.14968                  Memphis, TN   \n",
       "7  ARC1IHZ1187FB4E920              NaN                                \n",
       "8  AR9Q9YC1187FB5609B              NaN                   New Jersey   \n",
       "9  ARSVTNL1187B992A91         51.50632              London, England   \n",
       "\n",
       "   artist_longitude                     artist_name   duration  num_songs  \\\n",
       "0               NaN                    Adelitas Way  213.94240          1   \n",
       "1               NaN           Tweeterfriendly Music  189.57016          1   \n",
       "2               NaN  International Noise Conspiracy  195.39546          1   \n",
       "3        -122.31483                      Neal Schon  304.56118          1   \n",
       "4               NaN                    Cyndi Lauper  240.63955          1   \n",
       "5               NaN                The Supersuckers  160.20853          1   \n",
       "6         -90.04892                    The Box Tops  148.03546          1   \n",
       "7               NaN                    Jamie Cullum  246.98730          1   \n",
       "8               NaN                Quest_ Pup_ Kevo  252.94322          1   \n",
       "9          -0.12714                   Jonathan King  129.85424          1   \n",
       "\n",
       "              song_id                                          title  year  \n",
       "0  SOBLFFE12AF72AA5BA                                         Scream  2009  \n",
       "1  SOHKNRJ12A6701D1F8                                   Drop of Rain     0  \n",
       "2  SOHOZBI12A8C132E3C                                    Smash It Up  2000  \n",
       "3  SOOVHYF12A8C134892                                I'll Be Waiting  1989  \n",
       "4  SONRWUU12AF72A4283                             Into The Nightlife  2008  \n",
       "5  SONQPZK12AB0182D84                                    Double Wide     0  \n",
       "6  SOCIWDW12A8C13D406                                      Soul Deep  1969  \n",
       "7  SOXZYWX12A6310ED0C                                It's About Time     0  \n",
       "8  SOFRDWL12A58A7CEF7                                   Hit Da Scene     0  \n",
       "9  SOEKAZG12AB018837E  I'll Slap Your Face (Entertainment USA Theme)  2001  "
      ]
     },
     "execution_count": 19,
     "metadata": {},
     "output_type": "execute_result"
    }
   ],
   "source": [
    "song_with_schema_df.limit(10).toPandas()"
   ]
  },
  {
   "cell_type": "code",
   "execution_count": 20,
   "metadata": {
    "editable": true
   },
   "outputs": [
    {
     "data": {
      "text/html": [
       "<div>\n",
       "<style scoped>\n",
       "    .dataframe tbody tr th:only-of-type {\n",
       "        vertical-align: middle;\n",
       "    }\n",
       "\n",
       "    .dataframe tbody tr th {\n",
       "        vertical-align: top;\n",
       "    }\n",
       "\n",
       "    .dataframe thead th {\n",
       "        text-align: right;\n",
       "    }\n",
       "</style>\n",
       "<table border=\"1\" class=\"dataframe\">\n",
       "  <thead>\n",
       "    <tr style=\"text-align: right;\">\n",
       "      <th></th>\n",
       "      <th>song_id</th>\n",
       "      <th>title</th>\n",
       "      <th>artist_id</th>\n",
       "      <th>year</th>\n",
       "      <th>duration</th>\n",
       "    </tr>\n",
       "  </thead>\n",
       "  <tbody>\n",
       "    <tr>\n",
       "      <th>0</th>\n",
       "      <td>SOBLFFE12AF72AA5BA</td>\n",
       "      <td>Scream</td>\n",
       "      <td>ARJNIUY12298900C91</td>\n",
       "      <td>2009</td>\n",
       "      <td>213.94240</td>\n",
       "    </tr>\n",
       "    <tr>\n",
       "      <th>1</th>\n",
       "      <td>SOHKNRJ12A6701D1F8</td>\n",
       "      <td>Drop of Rain</td>\n",
       "      <td>AR10USD1187B99F3F1</td>\n",
       "      <td>0</td>\n",
       "      <td>189.57016</td>\n",
       "    </tr>\n",
       "    <tr>\n",
       "      <th>2</th>\n",
       "      <td>SOHOZBI12A8C132E3C</td>\n",
       "      <td>Smash It Up</td>\n",
       "      <td>AR0MWD61187B9B2B12</td>\n",
       "      <td>2000</td>\n",
       "      <td>195.39546</td>\n",
       "    </tr>\n",
       "    <tr>\n",
       "      <th>3</th>\n",
       "      <td>SOOVHYF12A8C134892</td>\n",
       "      <td>I'll Be Waiting</td>\n",
       "      <td>ARCLYBR1187FB53913</td>\n",
       "      <td>1989</td>\n",
       "      <td>304.56118</td>\n",
       "    </tr>\n",
       "    <tr>\n",
       "      <th>4</th>\n",
       "      <td>SONRWUU12AF72A4283</td>\n",
       "      <td>Into The Nightlife</td>\n",
       "      <td>ARGE7G11187FB37E05</td>\n",
       "      <td>2008</td>\n",
       "      <td>240.63955</td>\n",
       "    </tr>\n",
       "    <tr>\n",
       "      <th>5</th>\n",
       "      <td>SONQPZK12AB0182D84</td>\n",
       "      <td>Double Wide</td>\n",
       "      <td>ARKYKXP11F50C47A6A</td>\n",
       "      <td>0</td>\n",
       "      <td>160.20853</td>\n",
       "    </tr>\n",
       "    <tr>\n",
       "      <th>6</th>\n",
       "      <td>SOCIWDW12A8C13D406</td>\n",
       "      <td>Soul Deep</td>\n",
       "      <td>ARMJAGH1187FB546F3</td>\n",
       "      <td>1969</td>\n",
       "      <td>148.03546</td>\n",
       "    </tr>\n",
       "    <tr>\n",
       "      <th>7</th>\n",
       "      <td>SOXZYWX12A6310ED0C</td>\n",
       "      <td>It's About Time</td>\n",
       "      <td>ARC1IHZ1187FB4E920</td>\n",
       "      <td>0</td>\n",
       "      <td>246.98730</td>\n",
       "    </tr>\n",
       "    <tr>\n",
       "      <th>8</th>\n",
       "      <td>SOFRDWL12A58A7CEF7</td>\n",
       "      <td>Hit Da Scene</td>\n",
       "      <td>AR9Q9YC1187FB5609B</td>\n",
       "      <td>0</td>\n",
       "      <td>252.94322</td>\n",
       "    </tr>\n",
       "    <tr>\n",
       "      <th>9</th>\n",
       "      <td>SOEKAZG12AB018837E</td>\n",
       "      <td>I'll Slap Your Face (Entertainment USA Theme)</td>\n",
       "      <td>ARSVTNL1187B992A91</td>\n",
       "      <td>2001</td>\n",
       "      <td>129.85424</td>\n",
       "    </tr>\n",
       "  </tbody>\n",
       "</table>\n",
       "</div>"
      ],
      "text/plain": [
       "              song_id                                          title  \\\n",
       "0  SOBLFFE12AF72AA5BA                                         Scream   \n",
       "1  SOHKNRJ12A6701D1F8                                   Drop of Rain   \n",
       "2  SOHOZBI12A8C132E3C                                    Smash It Up   \n",
       "3  SOOVHYF12A8C134892                                I'll Be Waiting   \n",
       "4  SONRWUU12AF72A4283                             Into The Nightlife   \n",
       "5  SONQPZK12AB0182D84                                    Double Wide   \n",
       "6  SOCIWDW12A8C13D406                                      Soul Deep   \n",
       "7  SOXZYWX12A6310ED0C                                It's About Time   \n",
       "8  SOFRDWL12A58A7CEF7                                   Hit Da Scene   \n",
       "9  SOEKAZG12AB018837E  I'll Slap Your Face (Entertainment USA Theme)   \n",
       "\n",
       "            artist_id  year   duration  \n",
       "0  ARJNIUY12298900C91  2009  213.94240  \n",
       "1  AR10USD1187B99F3F1     0  189.57016  \n",
       "2  AR0MWD61187B9B2B12  2000  195.39546  \n",
       "3  ARCLYBR1187FB53913  1989  304.56118  \n",
       "4  ARGE7G11187FB37E05  2008  240.63955  \n",
       "5  ARKYKXP11F50C47A6A     0  160.20853  \n",
       "6  ARMJAGH1187FB546F3  1969  148.03546  \n",
       "7  ARC1IHZ1187FB4E920     0  246.98730  \n",
       "8  AR9Q9YC1187FB5609B     0  252.94322  \n",
       "9  ARSVTNL1187B992A91  2001  129.85424  "
      ]
     },
     "execution_count": 20,
     "metadata": {},
     "output_type": "execute_result"
    }
   ],
   "source": [
    "# songs_table\n",
    "song_columns = [\"song_id\", \"title\", \"artist_id\", \"year\", \"duration\"]\n",
    "songs_table = song_with_schema_df.select(song_columns)\n",
    "songs_table.limit(10).toPandas()"
   ]
  },
  {
   "cell_type": "code",
   "execution_count": 21,
   "metadata": {
    "editable": true
   },
   "outputs": [
    {
     "data": {
      "text/html": [
       "<div>\n",
       "<style scoped>\n",
       "    .dataframe tbody tr th:only-of-type {\n",
       "        vertical-align: middle;\n",
       "    }\n",
       "\n",
       "    .dataframe tbody tr th {\n",
       "        vertical-align: top;\n",
       "    }\n",
       "\n",
       "    .dataframe thead th {\n",
       "        text-align: right;\n",
       "    }\n",
       "</style>\n",
       "<table border=\"1\" class=\"dataframe\">\n",
       "  <thead>\n",
       "    <tr style=\"text-align: right;\">\n",
       "      <th></th>\n",
       "      <th>artist_id</th>\n",
       "      <th>name</th>\n",
       "      <th>location</th>\n",
       "      <th>longitude</th>\n",
       "      <th>latitude</th>\n",
       "    </tr>\n",
       "  </thead>\n",
       "  <tbody>\n",
       "    <tr>\n",
       "      <th>0</th>\n",
       "      <td>ARJNIUY12298900C91</td>\n",
       "      <td>Adelitas Way</td>\n",
       "      <td></td>\n",
       "      <td>NaN</td>\n",
       "      <td>NaN</td>\n",
       "    </tr>\n",
       "    <tr>\n",
       "      <th>1</th>\n",
       "      <td>AR10USD1187B99F3F1</td>\n",
       "      <td>Tweeterfriendly Music</td>\n",
       "      <td>Burlington, Ontario, Canada</td>\n",
       "      <td>NaN</td>\n",
       "      <td>NaN</td>\n",
       "    </tr>\n",
       "    <tr>\n",
       "      <th>2</th>\n",
       "      <td>AR0MWD61187B9B2B12</td>\n",
       "      <td>International Noise Conspiracy</td>\n",
       "      <td></td>\n",
       "      <td>NaN</td>\n",
       "      <td>NaN</td>\n",
       "    </tr>\n",
       "    <tr>\n",
       "      <th>3</th>\n",
       "      <td>ARCLYBR1187FB53913</td>\n",
       "      <td>Neal Schon</td>\n",
       "      <td>San Mateo, CA</td>\n",
       "      <td>-122.31483</td>\n",
       "      <td>37.54703</td>\n",
       "    </tr>\n",
       "    <tr>\n",
       "      <th>4</th>\n",
       "      <td>ARGE7G11187FB37E05</td>\n",
       "      <td>Cyndi Lauper</td>\n",
       "      <td>Brooklyn, NY</td>\n",
       "      <td>NaN</td>\n",
       "      <td>NaN</td>\n",
       "    </tr>\n",
       "    <tr>\n",
       "      <th>5</th>\n",
       "      <td>ARKYKXP11F50C47A6A</td>\n",
       "      <td>The Supersuckers</td>\n",
       "      <td></td>\n",
       "      <td>NaN</td>\n",
       "      <td>NaN</td>\n",
       "    </tr>\n",
       "    <tr>\n",
       "      <th>6</th>\n",
       "      <td>ARMJAGH1187FB546F3</td>\n",
       "      <td>The Box Tops</td>\n",
       "      <td>Memphis, TN</td>\n",
       "      <td>-90.04892</td>\n",
       "      <td>35.14968</td>\n",
       "    </tr>\n",
       "    <tr>\n",
       "      <th>7</th>\n",
       "      <td>ARC1IHZ1187FB4E920</td>\n",
       "      <td>Jamie Cullum</td>\n",
       "      <td></td>\n",
       "      <td>NaN</td>\n",
       "      <td>NaN</td>\n",
       "    </tr>\n",
       "    <tr>\n",
       "      <th>8</th>\n",
       "      <td>AR9Q9YC1187FB5609B</td>\n",
       "      <td>Quest_ Pup_ Kevo</td>\n",
       "      <td>New Jersey</td>\n",
       "      <td>NaN</td>\n",
       "      <td>NaN</td>\n",
       "    </tr>\n",
       "    <tr>\n",
       "      <th>9</th>\n",
       "      <td>ARSVTNL1187B992A91</td>\n",
       "      <td>Jonathan King</td>\n",
       "      <td>London, England</td>\n",
       "      <td>-0.12714</td>\n",
       "      <td>51.50632</td>\n",
       "    </tr>\n",
       "  </tbody>\n",
       "</table>\n",
       "</div>"
      ],
      "text/plain": [
       "            artist_id                            name  \\\n",
       "0  ARJNIUY12298900C91                    Adelitas Way   \n",
       "1  AR10USD1187B99F3F1           Tweeterfriendly Music   \n",
       "2  AR0MWD61187B9B2B12  International Noise Conspiracy   \n",
       "3  ARCLYBR1187FB53913                      Neal Schon   \n",
       "4  ARGE7G11187FB37E05                    Cyndi Lauper   \n",
       "5  ARKYKXP11F50C47A6A                The Supersuckers   \n",
       "6  ARMJAGH1187FB546F3                    The Box Tops   \n",
       "7  ARC1IHZ1187FB4E920                    Jamie Cullum   \n",
       "8  AR9Q9YC1187FB5609B                Quest_ Pup_ Kevo   \n",
       "9  ARSVTNL1187B992A91                   Jonathan King   \n",
       "\n",
       "                      location  longitude  latitude  \n",
       "0                                     NaN       NaN  \n",
       "1  Burlington, Ontario, Canada        NaN       NaN  \n",
       "2                                     NaN       NaN  \n",
       "3                San Mateo, CA -122.31483  37.54703  \n",
       "4                 Brooklyn, NY        NaN       NaN  \n",
       "5                                     NaN       NaN  \n",
       "6                  Memphis, TN  -90.04892  35.14968  \n",
       "7                                     NaN       NaN  \n",
       "8                   New Jersey        NaN       NaN  \n",
       "9              London, England   -0.12714  51.50632  "
      ]
     },
     "execution_count": 21,
     "metadata": {},
     "output_type": "execute_result"
    }
   ],
   "source": [
    "#artists_table\n",
    "artist_columns = [\"artist_id\", \"artist_name as name\", \"artist_location as location\", \"artist_longitude as longitude\", \"artist_latitude as latitude\"]\n",
    "artists_table = song_df.selectExpr(artist_columns)\n",
    "artists_table.limit(10).toPandas()"
   ]
  },
  {
   "cell_type": "markdown",
   "metadata": {
    "editable": true
   },
   "source": [
    "### log-data"
   ]
  },
  {
   "cell_type": "code",
   "execution_count": 22,
   "metadata": {
    "editable": true
   },
   "outputs": [
    {
     "name": "stdout",
     "output_type": "stream",
     "text": [
      "Reading :  s3a://udacity-dend/log-data/2018/11/*.json\n",
      "Finish reading log_data_df JSON from S3\n"
     ]
    }
   ],
   "source": [
    "print(\"Reading : \", log_data_sample_path)\n",
    "log_data_df = spark.read.json(log_data_sample_path)\n",
    "print(\"Finish reading log_data_df JSON from S3\")"
   ]
  },
  {
   "cell_type": "code",
   "execution_count": 23,
   "metadata": {
    "editable": true
   },
   "outputs": [
    {
     "name": "stdout",
     "output_type": "stream",
     "text": [
      "root\n",
      " |-- artist: string (nullable = true)\n",
      " |-- auth: string (nullable = true)\n",
      " |-- firstName: string (nullable = true)\n",
      " |-- gender: string (nullable = true)\n",
      " |-- itemInSession: long (nullable = true)\n",
      " |-- lastName: string (nullable = true)\n",
      " |-- length: double (nullable = true)\n",
      " |-- level: string (nullable = true)\n",
      " |-- location: string (nullable = true)\n",
      " |-- method: string (nullable = true)\n",
      " |-- page: string (nullable = true)\n",
      " |-- registration: double (nullable = true)\n",
      " |-- sessionId: long (nullable = true)\n",
      " |-- song: string (nullable = true)\n",
      " |-- status: long (nullable = true)\n",
      " |-- ts: long (nullable = true)\n",
      " |-- userAgent: string (nullable = true)\n",
      " |-- userId: string (nullable = true)\n",
      "\n"
     ]
    }
   ],
   "source": [
    "log_data_df.printSchema()"
   ]
  },
  {
   "cell_type": "code",
   "execution_count": 24,
   "metadata": {
    "editable": true
   },
   "outputs": [
    {
     "data": {
      "text/html": [
       "<div>\n",
       "<style scoped>\n",
       "    .dataframe tbody tr th:only-of-type {\n",
       "        vertical-align: middle;\n",
       "    }\n",
       "\n",
       "    .dataframe tbody tr th {\n",
       "        vertical-align: top;\n",
       "    }\n",
       "\n",
       "    .dataframe thead th {\n",
       "        text-align: right;\n",
       "    }\n",
       "</style>\n",
       "<table border=\"1\" class=\"dataframe\">\n",
       "  <thead>\n",
       "    <tr style=\"text-align: right;\">\n",
       "      <th></th>\n",
       "      <th>artist</th>\n",
       "      <th>auth</th>\n",
       "      <th>firstName</th>\n",
       "      <th>gender</th>\n",
       "      <th>itemInSession</th>\n",
       "      <th>lastName</th>\n",
       "      <th>length</th>\n",
       "      <th>level</th>\n",
       "      <th>location</th>\n",
       "      <th>method</th>\n",
       "      <th>page</th>\n",
       "      <th>registration</th>\n",
       "      <th>sessionId</th>\n",
       "      <th>song</th>\n",
       "      <th>status</th>\n",
       "      <th>ts</th>\n",
       "      <th>userAgent</th>\n",
       "      <th>userId</th>\n",
       "    </tr>\n",
       "  </thead>\n",
       "  <tbody>\n",
       "    <tr>\n",
       "      <th>0</th>\n",
       "      <td>Harmonia</td>\n",
       "      <td>Logged In</td>\n",
       "      <td>Ryan</td>\n",
       "      <td>M</td>\n",
       "      <td>0</td>\n",
       "      <td>Smith</td>\n",
       "      <td>655.77751</td>\n",
       "      <td>free</td>\n",
       "      <td>San Jose-Sunnyvale-Santa Clara, CA</td>\n",
       "      <td>PUT</td>\n",
       "      <td>NextSong</td>\n",
       "      <td>1.541017e+12</td>\n",
       "      <td>583</td>\n",
       "      <td>Sehr kosmisch</td>\n",
       "      <td>200</td>\n",
       "      <td>1542241826796</td>\n",
       "      <td>\"Mozilla/5.0 (X11; Linux x86_64) AppleWebKit/5...</td>\n",
       "      <td>26</td>\n",
       "    </tr>\n",
       "    <tr>\n",
       "      <th>1</th>\n",
       "      <td>The Prodigy</td>\n",
       "      <td>Logged In</td>\n",
       "      <td>Ryan</td>\n",
       "      <td>M</td>\n",
       "      <td>1</td>\n",
       "      <td>Smith</td>\n",
       "      <td>260.07465</td>\n",
       "      <td>free</td>\n",
       "      <td>San Jose-Sunnyvale-Santa Clara, CA</td>\n",
       "      <td>PUT</td>\n",
       "      <td>NextSong</td>\n",
       "      <td>1.541017e+12</td>\n",
       "      <td>583</td>\n",
       "      <td>The Big Gundown</td>\n",
       "      <td>200</td>\n",
       "      <td>1542242481796</td>\n",
       "      <td>\"Mozilla/5.0 (X11; Linux x86_64) AppleWebKit/5...</td>\n",
       "      <td>26</td>\n",
       "    </tr>\n",
       "    <tr>\n",
       "      <th>2</th>\n",
       "      <td>Train</td>\n",
       "      <td>Logged In</td>\n",
       "      <td>Ryan</td>\n",
       "      <td>M</td>\n",
       "      <td>2</td>\n",
       "      <td>Smith</td>\n",
       "      <td>205.45261</td>\n",
       "      <td>free</td>\n",
       "      <td>San Jose-Sunnyvale-Santa Clara, CA</td>\n",
       "      <td>PUT</td>\n",
       "      <td>NextSong</td>\n",
       "      <td>1.541017e+12</td>\n",
       "      <td>583</td>\n",
       "      <td>Marry Me</td>\n",
       "      <td>200</td>\n",
       "      <td>1542242741796</td>\n",
       "      <td>\"Mozilla/5.0 (X11; Linux x86_64) AppleWebKit/5...</td>\n",
       "      <td>26</td>\n",
       "    </tr>\n",
       "    <tr>\n",
       "      <th>3</th>\n",
       "      <td>None</td>\n",
       "      <td>Logged In</td>\n",
       "      <td>Wyatt</td>\n",
       "      <td>M</td>\n",
       "      <td>0</td>\n",
       "      <td>Scott</td>\n",
       "      <td>NaN</td>\n",
       "      <td>free</td>\n",
       "      <td>Eureka-Arcata-Fortuna, CA</td>\n",
       "      <td>GET</td>\n",
       "      <td>Home</td>\n",
       "      <td>1.540872e+12</td>\n",
       "      <td>563</td>\n",
       "      <td>None</td>\n",
       "      <td>200</td>\n",
       "      <td>1542247071796</td>\n",
       "      <td>Mozilla/5.0 (Windows NT 6.1; WOW64; Trident/7....</td>\n",
       "      <td>9</td>\n",
       "    </tr>\n",
       "    <tr>\n",
       "      <th>4</th>\n",
       "      <td>None</td>\n",
       "      <td>Logged In</td>\n",
       "      <td>Austin</td>\n",
       "      <td>M</td>\n",
       "      <td>0</td>\n",
       "      <td>Rosales</td>\n",
       "      <td>NaN</td>\n",
       "      <td>free</td>\n",
       "      <td>New York-Newark-Jersey City, NY-NJ-PA</td>\n",
       "      <td>GET</td>\n",
       "      <td>Home</td>\n",
       "      <td>1.541060e+12</td>\n",
       "      <td>521</td>\n",
       "      <td>None</td>\n",
       "      <td>200</td>\n",
       "      <td>1542252577796</td>\n",
       "      <td>Mozilla/5.0 (Windows NT 6.1; rv:31.0) Gecko/20...</td>\n",
       "      <td>12</td>\n",
       "    </tr>\n",
       "    <tr>\n",
       "      <th>5</th>\n",
       "      <td>Sony Wonder</td>\n",
       "      <td>Logged In</td>\n",
       "      <td>Samuel</td>\n",
       "      <td>M</td>\n",
       "      <td>0</td>\n",
       "      <td>Gonzalez</td>\n",
       "      <td>218.06975</td>\n",
       "      <td>free</td>\n",
       "      <td>Houston-The Woodlands-Sugar Land, TX</td>\n",
       "      <td>PUT</td>\n",
       "      <td>NextSong</td>\n",
       "      <td>1.540493e+12</td>\n",
       "      <td>597</td>\n",
       "      <td>Blackbird</td>\n",
       "      <td>200</td>\n",
       "      <td>1542253449796</td>\n",
       "      <td>\"Mozilla/5.0 (Macintosh; Intel Mac OS X 10_9_4...</td>\n",
       "      <td>61</td>\n",
       "    </tr>\n",
       "    <tr>\n",
       "      <th>6</th>\n",
       "      <td>None</td>\n",
       "      <td>Logged In</td>\n",
       "      <td>Samuel</td>\n",
       "      <td>M</td>\n",
       "      <td>1</td>\n",
       "      <td>Gonzalez</td>\n",
       "      <td>NaN</td>\n",
       "      <td>free</td>\n",
       "      <td>Houston-The Woodlands-Sugar Land, TX</td>\n",
       "      <td>GET</td>\n",
       "      <td>About</td>\n",
       "      <td>1.540493e+12</td>\n",
       "      <td>597</td>\n",
       "      <td>None</td>\n",
       "      <td>200</td>\n",
       "      <td>1542253460796</td>\n",
       "      <td>\"Mozilla/5.0 (Macintosh; Intel Mac OS X 10_9_4...</td>\n",
       "      <td>61</td>\n",
       "    </tr>\n",
       "    <tr>\n",
       "      <th>7</th>\n",
       "      <td>None</td>\n",
       "      <td>Logged Out</td>\n",
       "      <td>None</td>\n",
       "      <td>None</td>\n",
       "      <td>0</td>\n",
       "      <td>None</td>\n",
       "      <td>NaN</td>\n",
       "      <td>paid</td>\n",
       "      <td>None</td>\n",
       "      <td>PUT</td>\n",
       "      <td>Login</td>\n",
       "      <td>NaN</td>\n",
       "      <td>602</td>\n",
       "      <td>None</td>\n",
       "      <td>307</td>\n",
       "      <td>1542260074796</td>\n",
       "      <td>None</td>\n",
       "      <td></td>\n",
       "    </tr>\n",
       "    <tr>\n",
       "      <th>8</th>\n",
       "      <td>None</td>\n",
       "      <td>Logged In</td>\n",
       "      <td>Tegan</td>\n",
       "      <td>F</td>\n",
       "      <td>1</td>\n",
       "      <td>Levine</td>\n",
       "      <td>NaN</td>\n",
       "      <td>paid</td>\n",
       "      <td>Portland-South Portland, ME</td>\n",
       "      <td>GET</td>\n",
       "      <td>Home</td>\n",
       "      <td>1.540794e+12</td>\n",
       "      <td>602</td>\n",
       "      <td>None</td>\n",
       "      <td>200</td>\n",
       "      <td>1542260277796</td>\n",
       "      <td>\"Mozilla/5.0 (Macintosh; Intel Mac OS X 10_9_4...</td>\n",
       "      <td>80</td>\n",
       "    </tr>\n",
       "    <tr>\n",
       "      <th>9</th>\n",
       "      <td>Van Halen</td>\n",
       "      <td>Logged In</td>\n",
       "      <td>Tegan</td>\n",
       "      <td>F</td>\n",
       "      <td>2</td>\n",
       "      <td>Levine</td>\n",
       "      <td>289.38404</td>\n",
       "      <td>paid</td>\n",
       "      <td>Portland-South Portland, ME</td>\n",
       "      <td>PUT</td>\n",
       "      <td>NextSong</td>\n",
       "      <td>1.540794e+12</td>\n",
       "      <td>602</td>\n",
       "      <td>Best Of Both Worlds (Remastered Album Version)</td>\n",
       "      <td>200</td>\n",
       "      <td>1542260935796</td>\n",
       "      <td>\"Mozilla/5.0 (Macintosh; Intel Mac OS X 10_9_4...</td>\n",
       "      <td>80</td>\n",
       "    </tr>\n",
       "  </tbody>\n",
       "</table>\n",
       "</div>"
      ],
      "text/plain": [
       "        artist        auth firstName gender  itemInSession  lastName  \\\n",
       "0     Harmonia   Logged In      Ryan      M              0     Smith   \n",
       "1  The Prodigy   Logged In      Ryan      M              1     Smith   \n",
       "2        Train   Logged In      Ryan      M              2     Smith   \n",
       "3         None   Logged In     Wyatt      M              0     Scott   \n",
       "4         None   Logged In    Austin      M              0   Rosales   \n",
       "5  Sony Wonder   Logged In    Samuel      M              0  Gonzalez   \n",
       "6         None   Logged In    Samuel      M              1  Gonzalez   \n",
       "7         None  Logged Out      None   None              0      None   \n",
       "8         None   Logged In     Tegan      F              1    Levine   \n",
       "9    Van Halen   Logged In     Tegan      F              2    Levine   \n",
       "\n",
       "      length level                               location method      page  \\\n",
       "0  655.77751  free     San Jose-Sunnyvale-Santa Clara, CA    PUT  NextSong   \n",
       "1  260.07465  free     San Jose-Sunnyvale-Santa Clara, CA    PUT  NextSong   \n",
       "2  205.45261  free     San Jose-Sunnyvale-Santa Clara, CA    PUT  NextSong   \n",
       "3        NaN  free              Eureka-Arcata-Fortuna, CA    GET      Home   \n",
       "4        NaN  free  New York-Newark-Jersey City, NY-NJ-PA    GET      Home   \n",
       "5  218.06975  free   Houston-The Woodlands-Sugar Land, TX    PUT  NextSong   \n",
       "6        NaN  free   Houston-The Woodlands-Sugar Land, TX    GET     About   \n",
       "7        NaN  paid                                   None    PUT     Login   \n",
       "8        NaN  paid            Portland-South Portland, ME    GET      Home   \n",
       "9  289.38404  paid            Portland-South Portland, ME    PUT  NextSong   \n",
       "\n",
       "   registration  sessionId                                            song  \\\n",
       "0  1.541017e+12        583                                   Sehr kosmisch   \n",
       "1  1.541017e+12        583                                 The Big Gundown   \n",
       "2  1.541017e+12        583                                        Marry Me   \n",
       "3  1.540872e+12        563                                            None   \n",
       "4  1.541060e+12        521                                            None   \n",
       "5  1.540493e+12        597                                       Blackbird   \n",
       "6  1.540493e+12        597                                            None   \n",
       "7           NaN        602                                            None   \n",
       "8  1.540794e+12        602                                            None   \n",
       "9  1.540794e+12        602  Best Of Both Worlds (Remastered Album Version)   \n",
       "\n",
       "   status             ts                                          userAgent  \\\n",
       "0     200  1542241826796  \"Mozilla/5.0 (X11; Linux x86_64) AppleWebKit/5...   \n",
       "1     200  1542242481796  \"Mozilla/5.0 (X11; Linux x86_64) AppleWebKit/5...   \n",
       "2     200  1542242741796  \"Mozilla/5.0 (X11; Linux x86_64) AppleWebKit/5...   \n",
       "3     200  1542247071796  Mozilla/5.0 (Windows NT 6.1; WOW64; Trident/7....   \n",
       "4     200  1542252577796  Mozilla/5.0 (Windows NT 6.1; rv:31.0) Gecko/20...   \n",
       "5     200  1542253449796  \"Mozilla/5.0 (Macintosh; Intel Mac OS X 10_9_4...   \n",
       "6     200  1542253460796  \"Mozilla/5.0 (Macintosh; Intel Mac OS X 10_9_4...   \n",
       "7     307  1542260074796                                               None   \n",
       "8     200  1542260277796  \"Mozilla/5.0 (Macintosh; Intel Mac OS X 10_9_4...   \n",
       "9     200  1542260935796  \"Mozilla/5.0 (Macintosh; Intel Mac OS X 10_9_4...   \n",
       "\n",
       "  userId  \n",
       "0     26  \n",
       "1     26  \n",
       "2     26  \n",
       "3      9  \n",
       "4     12  \n",
       "5     61  \n",
       "6     61  \n",
       "7         \n",
       "8     80  \n",
       "9     80  "
      ]
     },
     "execution_count": 24,
     "metadata": {},
     "output_type": "execute_result"
    }
   ],
   "source": [
    "log_data_df.limit(10).toPandas()"
   ]
  },
  {
   "cell_type": "markdown",
   "metadata": {
    "editable": true
   },
   "source": [
    "# Define schema for log"
   ]
  },
  {
   "cell_type": "code",
   "execution_count": 25,
   "metadata": {
    "editable": true
   },
   "outputs": [
    {
     "name": "stdout",
     "output_type": "stream",
     "text": [
      "['artist', 'auth', 'firstName', 'gender', 'itemInSession', 'lastName', 'length', 'level', 'location', 'method', 'page', 'registration', 'sessionId', 'song', 'status', 'ts', 'userAgent', 'userId']\n",
      "Current Schema\n",
      "root\n",
      " |-- artist: string (nullable = true)\n",
      " |-- auth: string (nullable = true)\n",
      " |-- firstName: string (nullable = true)\n",
      " |-- gender: string (nullable = true)\n",
      " |-- itemInSession: long (nullable = true)\n",
      " |-- lastName: string (nullable = true)\n",
      " |-- length: double (nullable = true)\n",
      " |-- level: string (nullable = true)\n",
      " |-- location: string (nullable = true)\n",
      " |-- method: string (nullable = true)\n",
      " |-- page: string (nullable = true)\n",
      " |-- registration: double (nullable = true)\n",
      " |-- sessionId: long (nullable = true)\n",
      " |-- song: string (nullable = true)\n",
      " |-- status: long (nullable = true)\n",
      " |-- ts: long (nullable = true)\n",
      " |-- userAgent: string (nullable = true)\n",
      " |-- userId: string (nullable = true)\n",
      "\n"
     ]
    }
   ],
   "source": [
    "print(log_data_df.columns)\n",
    "print(\"Current Schema\")\n",
    "log_data_df.printSchema()"
   ]
  },
  {
   "cell_type": "code",
   "execution_count": 26,
   "metadata": {
    "editable": true
   },
   "outputs": [
    {
     "name": "stdout",
     "output_type": "stream",
     "text": [
      "Reading :  s3a://udacity-dend/log-data/2018/11/*.json\n",
      "Finish reading log_data_df JSON from S3\n"
     ]
    }
   ],
   "source": [
    "from pyspark.sql.types import StructType, StructField as Fld, DoubleType as Dbl, \\\n",
    "        StringType as Str, IntegerType as Int, DateType as Date, LongType as Long\n",
    "\n",
    "log_schema = StructType([\n",
    "    Fld(\"artist\", Str()),\n",
    "    Fld(\"auth\", Str()),\n",
    "    Fld(\"firstName\", Str()),\n",
    "    Fld(\"gender\", Str()),\n",
    "    Fld(\"itemInSession\", Long()),\n",
    "    Fld(\"lastName\", Str()),\n",
    "    Fld(\"length\", Dbl()),\n",
    "    Fld(\"level\", Str()),\n",
    "    Fld(\"location\", Str()),\n",
    "    Fld(\"method\", Str()),\n",
    "    Fld(\"page\", Str()),\n",
    "    Fld(\"registration\", Dbl()),\n",
    "    Fld(\"sessionId\", Long()),\n",
    "    Fld(\"song\", Str()),\n",
    "    Fld(\"status\", Int()),\n",
    "    Fld(\"ts\", Long()),\n",
    "    Fld(\"userAgent\", Str()),\n",
    "    Fld(\"userId\", Str())\n",
    "])\n",
    "\n",
    "print(\"Reading : \", log_data_sample_path)\n",
    "log_data_with_schema_df = spark.read.json(log_data_sample_path, schema=log_schema).drop_duplicates()\n",
    "print(\"Finish reading log_data_df JSON from S3\")\n"
   ]
  },
  {
   "cell_type": "code",
   "execution_count": 27,
   "metadata": {
    "editable": true
   },
   "outputs": [
    {
     "name": "stdout",
     "output_type": "stream",
     "text": [
      "Current Schema\n",
      "root\n",
      " |-- artist: string (nullable = true)\n",
      " |-- auth: string (nullable = true)\n",
      " |-- firstName: string (nullable = true)\n",
      " |-- gender: string (nullable = true)\n",
      " |-- itemInSession: long (nullable = true)\n",
      " |-- lastName: string (nullable = true)\n",
      " |-- length: double (nullable = true)\n",
      " |-- level: string (nullable = true)\n",
      " |-- location: string (nullable = true)\n",
      " |-- method: string (nullable = true)\n",
      " |-- page: string (nullable = true)\n",
      " |-- registration: double (nullable = true)\n",
      " |-- sessionId: long (nullable = true)\n",
      " |-- song: string (nullable = true)\n",
      " |-- status: integer (nullable = true)\n",
      " |-- ts: long (nullable = true)\n",
      " |-- userAgent: string (nullable = true)\n",
      " |-- userId: string (nullable = true)\n",
      "\n"
     ]
    }
   ],
   "source": [
    "print(\"Current Schema\")\n",
    "log_data_with_schema_df.printSchema()"
   ]
  },
  {
   "cell_type": "code",
   "execution_count": 28,
   "metadata": {
    "editable": true
   },
   "outputs": [
    {
     "data": {
      "text/html": [
       "<div>\n",
       "<style scoped>\n",
       "    .dataframe tbody tr th:only-of-type {\n",
       "        vertical-align: middle;\n",
       "    }\n",
       "\n",
       "    .dataframe tbody tr th {\n",
       "        vertical-align: top;\n",
       "    }\n",
       "\n",
       "    .dataframe thead th {\n",
       "        text-align: right;\n",
       "    }\n",
       "</style>\n",
       "<table border=\"1\" class=\"dataframe\">\n",
       "  <thead>\n",
       "    <tr style=\"text-align: right;\">\n",
       "      <th></th>\n",
       "      <th>artist</th>\n",
       "      <th>auth</th>\n",
       "      <th>firstName</th>\n",
       "      <th>gender</th>\n",
       "      <th>itemInSession</th>\n",
       "      <th>lastName</th>\n",
       "      <th>length</th>\n",
       "      <th>level</th>\n",
       "      <th>location</th>\n",
       "      <th>method</th>\n",
       "      <th>page</th>\n",
       "      <th>registration</th>\n",
       "      <th>sessionId</th>\n",
       "      <th>song</th>\n",
       "      <th>status</th>\n",
       "      <th>ts</th>\n",
       "      <th>userAgent</th>\n",
       "      <th>userId</th>\n",
       "    </tr>\n",
       "  </thead>\n",
       "  <tbody>\n",
       "    <tr>\n",
       "      <th>0</th>\n",
       "      <td>Muse</td>\n",
       "      <td>Logged In</td>\n",
       "      <td>Avery</td>\n",
       "      <td>F</td>\n",
       "      <td>7</td>\n",
       "      <td>Watkins</td>\n",
       "      <td>304.84853</td>\n",
       "      <td>paid</td>\n",
       "      <td>San Jose-Sunnyvale-Santa Clara, CA</td>\n",
       "      <td>PUT</td>\n",
       "      <td>NextSong</td>\n",
       "      <td>1.540872e+12</td>\n",
       "      <td>324</td>\n",
       "      <td>Uprising</td>\n",
       "      <td>200</td>\n",
       "      <td>1542276912796</td>\n",
       "      <td>Mozilla/5.0 (Windows NT 6.1; WOW64; rv:31.0) G...</td>\n",
       "      <td>30</td>\n",
       "    </tr>\n",
       "    <tr>\n",
       "      <th>1</th>\n",
       "      <td>Marina And The Diamonds</td>\n",
       "      <td>Logged In</td>\n",
       "      <td>Avery</td>\n",
       "      <td>F</td>\n",
       "      <td>56</td>\n",
       "      <td>Watkins</td>\n",
       "      <td>182.59546</td>\n",
       "      <td>paid</td>\n",
       "      <td>San Jose-Sunnyvale-Santa Clara, CA</td>\n",
       "      <td>PUT</td>\n",
       "      <td>NextSong</td>\n",
       "      <td>1.540872e+12</td>\n",
       "      <td>324</td>\n",
       "      <td>Oh No! (album version)</td>\n",
       "      <td>200</td>\n",
       "      <td>1542288870796</td>\n",
       "      <td>Mozilla/5.0 (Windows NT 6.1; WOW64; rv:31.0) G...</td>\n",
       "      <td>30</td>\n",
       "    </tr>\n",
       "    <tr>\n",
       "      <th>2</th>\n",
       "      <td>Kanye West / Consequence / Cam'Ron</td>\n",
       "      <td>Logged In</td>\n",
       "      <td>Aleena</td>\n",
       "      <td>F</td>\n",
       "      <td>69</td>\n",
       "      <td>Kirby</td>\n",
       "      <td>333.34812</td>\n",
       "      <td>paid</td>\n",
       "      <td>Waterloo-Cedar Falls, IA</td>\n",
       "      <td>PUT</td>\n",
       "      <td>NextSong</td>\n",
       "      <td>1.541023e+12</td>\n",
       "      <td>619</td>\n",
       "      <td>Gone</td>\n",
       "      <td>200</td>\n",
       "      <td>1542320503796</td>\n",
       "      <td>Mozilla/5.0 (Macintosh; Intel Mac OS X 10.9; r...</td>\n",
       "      <td>44</td>\n",
       "    </tr>\n",
       "    <tr>\n",
       "      <th>3</th>\n",
       "      <td>Pavement</td>\n",
       "      <td>Logged In</td>\n",
       "      <td>Kynnedi</td>\n",
       "      <td>F</td>\n",
       "      <td>0</td>\n",
       "      <td>Sanchez</td>\n",
       "      <td>99.16036</td>\n",
       "      <td>free</td>\n",
       "      <td>Cedar Rapids, IA</td>\n",
       "      <td>PUT</td>\n",
       "      <td>NextSong</td>\n",
       "      <td>1.541079e+12</td>\n",
       "      <td>631</td>\n",
       "      <td>Mercy:The Laundromat</td>\n",
       "      <td>200</td>\n",
       "      <td>1542783174796</td>\n",
       "      <td>\"Mozilla/5.0 (Macintosh; Intel Mac OS X 10_8_5...</td>\n",
       "      <td>89</td>\n",
       "    </tr>\n",
       "    <tr>\n",
       "      <th>4</th>\n",
       "      <td>Il Divo</td>\n",
       "      <td>Logged In</td>\n",
       "      <td>Kate</td>\n",
       "      <td>F</td>\n",
       "      <td>35</td>\n",
       "      <td>Harrell</td>\n",
       "      <td>229.87710</td>\n",
       "      <td>paid</td>\n",
       "      <td>Lansing-East Lansing, MI</td>\n",
       "      <td>PUT</td>\n",
       "      <td>NextSong</td>\n",
       "      <td>1.540473e+12</td>\n",
       "      <td>817</td>\n",
       "      <td>Unchained Melody (Senza Catene)</td>\n",
       "      <td>200</td>\n",
       "      <td>1542828982796</td>\n",
       "      <td>\"Mozilla/5.0 (X11; Linux x86_64) AppleWebKit/5...</td>\n",
       "      <td>97</td>\n",
       "    </tr>\n",
       "  </tbody>\n",
       "</table>\n",
       "</div>"
      ],
      "text/plain": [
       "                               artist       auth firstName gender  \\\n",
       "0                                Muse  Logged In     Avery      F   \n",
       "1             Marina And The Diamonds  Logged In     Avery      F   \n",
       "2  Kanye West / Consequence / Cam'Ron  Logged In    Aleena      F   \n",
       "3                            Pavement  Logged In   Kynnedi      F   \n",
       "4                             Il Divo  Logged In      Kate      F   \n",
       "\n",
       "   itemInSession lastName     length level  \\\n",
       "0              7  Watkins  304.84853  paid   \n",
       "1             56  Watkins  182.59546  paid   \n",
       "2             69    Kirby  333.34812  paid   \n",
       "3              0  Sanchez   99.16036  free   \n",
       "4             35  Harrell  229.87710  paid   \n",
       "\n",
       "                             location method      page  registration  \\\n",
       "0  San Jose-Sunnyvale-Santa Clara, CA    PUT  NextSong  1.540872e+12   \n",
       "1  San Jose-Sunnyvale-Santa Clara, CA    PUT  NextSong  1.540872e+12   \n",
       "2            Waterloo-Cedar Falls, IA    PUT  NextSong  1.541023e+12   \n",
       "3                    Cedar Rapids, IA    PUT  NextSong  1.541079e+12   \n",
       "4            Lansing-East Lansing, MI    PUT  NextSong  1.540473e+12   \n",
       "\n",
       "   sessionId                             song  status             ts  \\\n",
       "0        324                         Uprising     200  1542276912796   \n",
       "1        324           Oh No! (album version)     200  1542288870796   \n",
       "2        619                             Gone     200  1542320503796   \n",
       "3        631             Mercy:The Laundromat     200  1542783174796   \n",
       "4        817  Unchained Melody (Senza Catene)     200  1542828982796   \n",
       "\n",
       "                                           userAgent userId  \n",
       "0  Mozilla/5.0 (Windows NT 6.1; WOW64; rv:31.0) G...     30  \n",
       "1  Mozilla/5.0 (Windows NT 6.1; WOW64; rv:31.0) G...     30  \n",
       "2  Mozilla/5.0 (Macintosh; Intel Mac OS X 10.9; r...     44  \n",
       "3  \"Mozilla/5.0 (Macintosh; Intel Mac OS X 10_8_5...     89  \n",
       "4  \"Mozilla/5.0 (X11; Linux x86_64) AppleWebKit/5...     97  "
      ]
     },
     "execution_count": 28,
     "metadata": {},
     "output_type": "execute_result"
    }
   ],
   "source": [
    "log_data_with_schema_df.limit(5).toPandas()"
   ]
  },
  {
   "cell_type": "code",
   "execution_count": 29,
   "metadata": {
    "editable": true
   },
   "outputs": [
    {
     "data": {
      "text/html": [
       "<div>\n",
       "<style scoped>\n",
       "    .dataframe tbody tr th:only-of-type {\n",
       "        vertical-align: middle;\n",
       "    }\n",
       "\n",
       "    .dataframe tbody tr th {\n",
       "        vertical-align: top;\n",
       "    }\n",
       "\n",
       "    .dataframe thead th {\n",
       "        text-align: right;\n",
       "    }\n",
       "</style>\n",
       "<table border=\"1\" class=\"dataframe\">\n",
       "  <thead>\n",
       "    <tr style=\"text-align: right;\">\n",
       "      <th></th>\n",
       "      <th>userId</th>\n",
       "      <th>firstName</th>\n",
       "      <th>lastName</th>\n",
       "      <th>gender</th>\n",
       "      <th>level</th>\n",
       "    </tr>\n",
       "  </thead>\n",
       "  <tbody>\n",
       "    <tr>\n",
       "      <th>0</th>\n",
       "      <td>30</td>\n",
       "      <td>Avery</td>\n",
       "      <td>Watkins</td>\n",
       "      <td>F</td>\n",
       "      <td>paid</td>\n",
       "    </tr>\n",
       "    <tr>\n",
       "      <th>1</th>\n",
       "      <td>30</td>\n",
       "      <td>Avery</td>\n",
       "      <td>Watkins</td>\n",
       "      <td>F</td>\n",
       "      <td>paid</td>\n",
       "    </tr>\n",
       "    <tr>\n",
       "      <th>2</th>\n",
       "      <td>44</td>\n",
       "      <td>Aleena</td>\n",
       "      <td>Kirby</td>\n",
       "      <td>F</td>\n",
       "      <td>paid</td>\n",
       "    </tr>\n",
       "    <tr>\n",
       "      <th>3</th>\n",
       "      <td>89</td>\n",
       "      <td>Kynnedi</td>\n",
       "      <td>Sanchez</td>\n",
       "      <td>F</td>\n",
       "      <td>free</td>\n",
       "    </tr>\n",
       "    <tr>\n",
       "      <th>4</th>\n",
       "      <td>97</td>\n",
       "      <td>Kate</td>\n",
       "      <td>Harrell</td>\n",
       "      <td>F</td>\n",
       "      <td>paid</td>\n",
       "    </tr>\n",
       "  </tbody>\n",
       "</table>\n",
       "</div>"
      ],
      "text/plain": [
       "  userId firstName lastName gender level\n",
       "0     30     Avery  Watkins      F  paid\n",
       "1     30     Avery  Watkins      F  paid\n",
       "2     44    Aleena    Kirby      F  paid\n",
       "3     89   Kynnedi  Sanchez      F  free\n",
       "4     97      Kate  Harrell      F  paid"
      ]
     },
     "execution_count": 29,
     "metadata": {},
     "output_type": "execute_result"
    }
   ],
   "source": [
    "# users_table\n",
    "user_columns = [\"userId\", \"firstName\", \"lastName\", \"gender\", \"level\"]\n",
    "users_table = log_data_with_schema_df.select(user_columns)\n",
    "users_table.limit(5).toPandas()"
   ]
  },
  {
   "cell_type": "markdown",
   "metadata": {
    "editable": true
   },
   "source": [
    "### create UDF functions for log-related tables construction"
   ]
  },
  {
   "cell_type": "code",
   "execution_count": 30,
   "metadata": {
    "editable": true
   },
   "outputs": [],
   "source": [
    "from pyspark.sql.functions import udf\n",
    "from pyspark.sql.types import TimestampType\n",
    "from datetime import datetime\n",
    "\n",
    "\n",
    "get_timestamp = udf(lambda x: datetime.utcfromtimestamp(x/1000.0), TimestampType())\n",
    "get_datetime = udf(lambda x: datetime.utcfromtimestamp(x/1000.0).strftime('%Y-%m-%d %H:%M:%S'))"
   ]
  },
  {
   "cell_type": "code",
   "execution_count": 31,
   "metadata": {
    "editable": true
   },
   "outputs": [],
   "source": [
    "# get only NextSong\n",
    "ns_log_data_with_schema_df = log_data_with_schema_df.filter(log_data_with_schema_df.page == \"NextSong\")"
   ]
  },
  {
   "cell_type": "code",
   "execution_count": 32,
   "metadata": {
    "editable": true
   },
   "outputs": [],
   "source": [
    "ns_log_data_with_schema_df = ns_log_data_with_schema_df.withColumn(\"ts_datetime\", get_datetime(\"ts\"))\n",
    "ns_log_data_with_schema_df = ns_log_data_with_schema_df.withColumn(\"ts_timestamp\", get_timestamp(\"ts\"))\n"
   ]
  },
  {
   "cell_type": "code",
   "execution_count": 33,
   "metadata": {
    "editable": true
   },
   "outputs": [
    {
     "data": {
      "text/html": [
       "<div>\n",
       "<style scoped>\n",
       "    .dataframe tbody tr th:only-of-type {\n",
       "        vertical-align: middle;\n",
       "    }\n",
       "\n",
       "    .dataframe tbody tr th {\n",
       "        vertical-align: top;\n",
       "    }\n",
       "\n",
       "    .dataframe thead th {\n",
       "        text-align: right;\n",
       "    }\n",
       "</style>\n",
       "<table border=\"1\" class=\"dataframe\">\n",
       "  <thead>\n",
       "    <tr style=\"text-align: right;\">\n",
       "      <th></th>\n",
       "      <th>artist</th>\n",
       "      <th>auth</th>\n",
       "      <th>firstName</th>\n",
       "      <th>gender</th>\n",
       "      <th>itemInSession</th>\n",
       "      <th>lastName</th>\n",
       "      <th>length</th>\n",
       "      <th>level</th>\n",
       "      <th>location</th>\n",
       "      <th>method</th>\n",
       "      <th>page</th>\n",
       "      <th>registration</th>\n",
       "      <th>sessionId</th>\n",
       "      <th>song</th>\n",
       "      <th>status</th>\n",
       "      <th>ts</th>\n",
       "      <th>userAgent</th>\n",
       "      <th>userId</th>\n",
       "      <th>ts_datetime</th>\n",
       "      <th>ts_timestamp</th>\n",
       "    </tr>\n",
       "  </thead>\n",
       "  <tbody>\n",
       "    <tr>\n",
       "      <th>0</th>\n",
       "      <td>Muse</td>\n",
       "      <td>Logged In</td>\n",
       "      <td>Avery</td>\n",
       "      <td>F</td>\n",
       "      <td>7</td>\n",
       "      <td>Watkins</td>\n",
       "      <td>304.84853</td>\n",
       "      <td>paid</td>\n",
       "      <td>San Jose-Sunnyvale-Santa Clara, CA</td>\n",
       "      <td>PUT</td>\n",
       "      <td>NextSong</td>\n",
       "      <td>1.540872e+12</td>\n",
       "      <td>324</td>\n",
       "      <td>Uprising</td>\n",
       "      <td>200</td>\n",
       "      <td>1542276912796</td>\n",
       "      <td>Mozilla/5.0 (Windows NT 6.1; WOW64; rv:31.0) G...</td>\n",
       "      <td>30</td>\n",
       "      <td>2018-11-15 10:15:12</td>\n",
       "      <td>2018-11-15 10:15:12.796</td>\n",
       "    </tr>\n",
       "    <tr>\n",
       "      <th>1</th>\n",
       "      <td>Marina And The Diamonds</td>\n",
       "      <td>Logged In</td>\n",
       "      <td>Avery</td>\n",
       "      <td>F</td>\n",
       "      <td>56</td>\n",
       "      <td>Watkins</td>\n",
       "      <td>182.59546</td>\n",
       "      <td>paid</td>\n",
       "      <td>San Jose-Sunnyvale-Santa Clara, CA</td>\n",
       "      <td>PUT</td>\n",
       "      <td>NextSong</td>\n",
       "      <td>1.540872e+12</td>\n",
       "      <td>324</td>\n",
       "      <td>Oh No! (album version)</td>\n",
       "      <td>200</td>\n",
       "      <td>1542288870796</td>\n",
       "      <td>Mozilla/5.0 (Windows NT 6.1; WOW64; rv:31.0) G...</td>\n",
       "      <td>30</td>\n",
       "      <td>2018-11-15 13:34:30</td>\n",
       "      <td>2018-11-15 13:34:30.796</td>\n",
       "    </tr>\n",
       "    <tr>\n",
       "      <th>2</th>\n",
       "      <td>Kanye West / Consequence / Cam'Ron</td>\n",
       "      <td>Logged In</td>\n",
       "      <td>Aleena</td>\n",
       "      <td>F</td>\n",
       "      <td>69</td>\n",
       "      <td>Kirby</td>\n",
       "      <td>333.34812</td>\n",
       "      <td>paid</td>\n",
       "      <td>Waterloo-Cedar Falls, IA</td>\n",
       "      <td>PUT</td>\n",
       "      <td>NextSong</td>\n",
       "      <td>1.541023e+12</td>\n",
       "      <td>619</td>\n",
       "      <td>Gone</td>\n",
       "      <td>200</td>\n",
       "      <td>1542320503796</td>\n",
       "      <td>Mozilla/5.0 (Macintosh; Intel Mac OS X 10.9; r...</td>\n",
       "      <td>44</td>\n",
       "      <td>2018-11-15 22:21:43</td>\n",
       "      <td>2018-11-15 22:21:43.796</td>\n",
       "    </tr>\n",
       "    <tr>\n",
       "      <th>3</th>\n",
       "      <td>Pavement</td>\n",
       "      <td>Logged In</td>\n",
       "      <td>Kynnedi</td>\n",
       "      <td>F</td>\n",
       "      <td>0</td>\n",
       "      <td>Sanchez</td>\n",
       "      <td>99.16036</td>\n",
       "      <td>free</td>\n",
       "      <td>Cedar Rapids, IA</td>\n",
       "      <td>PUT</td>\n",
       "      <td>NextSong</td>\n",
       "      <td>1.541079e+12</td>\n",
       "      <td>631</td>\n",
       "      <td>Mercy:The Laundromat</td>\n",
       "      <td>200</td>\n",
       "      <td>1542783174796</td>\n",
       "      <td>\"Mozilla/5.0 (Macintosh; Intel Mac OS X 10_8_5...</td>\n",
       "      <td>89</td>\n",
       "      <td>2018-11-21 06:52:54</td>\n",
       "      <td>2018-11-21 06:52:54.796</td>\n",
       "    </tr>\n",
       "    <tr>\n",
       "      <th>4</th>\n",
       "      <td>Il Divo</td>\n",
       "      <td>Logged In</td>\n",
       "      <td>Kate</td>\n",
       "      <td>F</td>\n",
       "      <td>35</td>\n",
       "      <td>Harrell</td>\n",
       "      <td>229.87710</td>\n",
       "      <td>paid</td>\n",
       "      <td>Lansing-East Lansing, MI</td>\n",
       "      <td>PUT</td>\n",
       "      <td>NextSong</td>\n",
       "      <td>1.540473e+12</td>\n",
       "      <td>817</td>\n",
       "      <td>Unchained Melody (Senza Catene)</td>\n",
       "      <td>200</td>\n",
       "      <td>1542828982796</td>\n",
       "      <td>\"Mozilla/5.0 (X11; Linux x86_64) AppleWebKit/5...</td>\n",
       "      <td>97</td>\n",
       "      <td>2018-11-21 19:36:22</td>\n",
       "      <td>2018-11-21 19:36:22.796</td>\n",
       "    </tr>\n",
       "  </tbody>\n",
       "</table>\n",
       "</div>"
      ],
      "text/plain": [
       "                               artist       auth firstName gender  \\\n",
       "0                                Muse  Logged In     Avery      F   \n",
       "1             Marina And The Diamonds  Logged In     Avery      F   \n",
       "2  Kanye West / Consequence / Cam'Ron  Logged In    Aleena      F   \n",
       "3                            Pavement  Logged In   Kynnedi      F   \n",
       "4                             Il Divo  Logged In      Kate      F   \n",
       "\n",
       "   itemInSession lastName     length level  \\\n",
       "0              7  Watkins  304.84853  paid   \n",
       "1             56  Watkins  182.59546  paid   \n",
       "2             69    Kirby  333.34812  paid   \n",
       "3              0  Sanchez   99.16036  free   \n",
       "4             35  Harrell  229.87710  paid   \n",
       "\n",
       "                             location method      page  registration  \\\n",
       "0  San Jose-Sunnyvale-Santa Clara, CA    PUT  NextSong  1.540872e+12   \n",
       "1  San Jose-Sunnyvale-Santa Clara, CA    PUT  NextSong  1.540872e+12   \n",
       "2            Waterloo-Cedar Falls, IA    PUT  NextSong  1.541023e+12   \n",
       "3                    Cedar Rapids, IA    PUT  NextSong  1.541079e+12   \n",
       "4            Lansing-East Lansing, MI    PUT  NextSong  1.540473e+12   \n",
       "\n",
       "   sessionId                             song  status             ts  \\\n",
       "0        324                         Uprising     200  1542276912796   \n",
       "1        324           Oh No! (album version)     200  1542288870796   \n",
       "2        619                             Gone     200  1542320503796   \n",
       "3        631             Mercy:The Laundromat     200  1542783174796   \n",
       "4        817  Unchained Melody (Senza Catene)     200  1542828982796   \n",
       "\n",
       "                                           userAgent userId  \\\n",
       "0  Mozilla/5.0 (Windows NT 6.1; WOW64; rv:31.0) G...     30   \n",
       "1  Mozilla/5.0 (Windows NT 6.1; WOW64; rv:31.0) G...     30   \n",
       "2  Mozilla/5.0 (Macintosh; Intel Mac OS X 10.9; r...     44   \n",
       "3  \"Mozilla/5.0 (Macintosh; Intel Mac OS X 10_8_5...     89   \n",
       "4  \"Mozilla/5.0 (X11; Linux x86_64) AppleWebKit/5...     97   \n",
       "\n",
       "           ts_datetime            ts_timestamp  \n",
       "0  2018-11-15 10:15:12 2018-11-15 10:15:12.796  \n",
       "1  2018-11-15 13:34:30 2018-11-15 13:34:30.796  \n",
       "2  2018-11-15 22:21:43 2018-11-15 22:21:43.796  \n",
       "3  2018-11-21 06:52:54 2018-11-21 06:52:54.796  \n",
       "4  2018-11-21 19:36:22 2018-11-21 19:36:22.796  "
      ]
     },
     "execution_count": 33,
     "metadata": {},
     "output_type": "execute_result"
    }
   ],
   "source": [
    "ns_log_data_with_schema_df.limit(5).toPandas()"
   ]
  },
  {
   "cell_type": "code",
   "execution_count": 34,
   "metadata": {
    "editable": true
   },
   "outputs": [],
   "source": [
    "from pyspark.sql.functions import year, month, dayofmonth, hour, weekofyear, date_format, dayofweek\n",
    "\n",
    "ns_log_data_with_schema_df= ns_log_data_with_schema_df.withColumn(\"hour\", hour(\"ts_timestamp\")) \\\n",
    "                            .withColumn(\"day\", dayofmonth(\"ts_timestamp\")) \\\n",
    "                            .withColumn(\"week\", weekofyear(\"ts_timestamp\")) \\\n",
    "                            .withColumn(\"month\", month(\"ts_timestamp\")) \\\n",
    "                            .withColumn(\"year\", year(\"ts_timestamp\")) \\\n",
    "                            .withColumn(\"weekday\", dayofweek(\"ts_timestamp\"))"
   ]
  },
  {
   "cell_type": "code",
   "execution_count": 35,
   "metadata": {
    "editable": true
   },
   "outputs": [
    {
     "data": {
      "text/html": [
       "<div>\n",
       "<style scoped>\n",
       "    .dataframe tbody tr th:only-of-type {\n",
       "        vertical-align: middle;\n",
       "    }\n",
       "\n",
       "    .dataframe tbody tr th {\n",
       "        vertical-align: top;\n",
       "    }\n",
       "\n",
       "    .dataframe thead th {\n",
       "        text-align: right;\n",
       "    }\n",
       "</style>\n",
       "<table border=\"1\" class=\"dataframe\">\n",
       "  <thead>\n",
       "    <tr style=\"text-align: right;\">\n",
       "      <th></th>\n",
       "      <th>artist</th>\n",
       "      <th>auth</th>\n",
       "      <th>firstName</th>\n",
       "      <th>gender</th>\n",
       "      <th>itemInSession</th>\n",
       "      <th>lastName</th>\n",
       "      <th>length</th>\n",
       "      <th>level</th>\n",
       "      <th>location</th>\n",
       "      <th>method</th>\n",
       "      <th>...</th>\n",
       "      <th>userAgent</th>\n",
       "      <th>userId</th>\n",
       "      <th>ts_datetime</th>\n",
       "      <th>ts_timestamp</th>\n",
       "      <th>hour</th>\n",
       "      <th>day</th>\n",
       "      <th>week</th>\n",
       "      <th>month</th>\n",
       "      <th>year</th>\n",
       "      <th>weekday</th>\n",
       "    </tr>\n",
       "  </thead>\n",
       "  <tbody>\n",
       "    <tr>\n",
       "      <th>0</th>\n",
       "      <td>Muse</td>\n",
       "      <td>Logged In</td>\n",
       "      <td>Avery</td>\n",
       "      <td>F</td>\n",
       "      <td>7</td>\n",
       "      <td>Watkins</td>\n",
       "      <td>304.84853</td>\n",
       "      <td>paid</td>\n",
       "      <td>San Jose-Sunnyvale-Santa Clara, CA</td>\n",
       "      <td>PUT</td>\n",
       "      <td>...</td>\n",
       "      <td>Mozilla/5.0 (Windows NT 6.1; WOW64; rv:31.0) G...</td>\n",
       "      <td>30</td>\n",
       "      <td>2018-11-15 10:15:12</td>\n",
       "      <td>2018-11-15 10:15:12.796</td>\n",
       "      <td>10</td>\n",
       "      <td>15</td>\n",
       "      <td>46</td>\n",
       "      <td>11</td>\n",
       "      <td>2018</td>\n",
       "      <td>5</td>\n",
       "    </tr>\n",
       "    <tr>\n",
       "      <th>1</th>\n",
       "      <td>Marina And The Diamonds</td>\n",
       "      <td>Logged In</td>\n",
       "      <td>Avery</td>\n",
       "      <td>F</td>\n",
       "      <td>56</td>\n",
       "      <td>Watkins</td>\n",
       "      <td>182.59546</td>\n",
       "      <td>paid</td>\n",
       "      <td>San Jose-Sunnyvale-Santa Clara, CA</td>\n",
       "      <td>PUT</td>\n",
       "      <td>...</td>\n",
       "      <td>Mozilla/5.0 (Windows NT 6.1; WOW64; rv:31.0) G...</td>\n",
       "      <td>30</td>\n",
       "      <td>2018-11-15 13:34:30</td>\n",
       "      <td>2018-11-15 13:34:30.796</td>\n",
       "      <td>13</td>\n",
       "      <td>15</td>\n",
       "      <td>46</td>\n",
       "      <td>11</td>\n",
       "      <td>2018</td>\n",
       "      <td>5</td>\n",
       "    </tr>\n",
       "    <tr>\n",
       "      <th>2</th>\n",
       "      <td>Kanye West / Consequence / Cam'Ron</td>\n",
       "      <td>Logged In</td>\n",
       "      <td>Aleena</td>\n",
       "      <td>F</td>\n",
       "      <td>69</td>\n",
       "      <td>Kirby</td>\n",
       "      <td>333.34812</td>\n",
       "      <td>paid</td>\n",
       "      <td>Waterloo-Cedar Falls, IA</td>\n",
       "      <td>PUT</td>\n",
       "      <td>...</td>\n",
       "      <td>Mozilla/5.0 (Macintosh; Intel Mac OS X 10.9; r...</td>\n",
       "      <td>44</td>\n",
       "      <td>2018-11-15 22:21:43</td>\n",
       "      <td>2018-11-15 22:21:43.796</td>\n",
       "      <td>22</td>\n",
       "      <td>15</td>\n",
       "      <td>46</td>\n",
       "      <td>11</td>\n",
       "      <td>2018</td>\n",
       "      <td>5</td>\n",
       "    </tr>\n",
       "    <tr>\n",
       "      <th>3</th>\n",
       "      <td>Pavement</td>\n",
       "      <td>Logged In</td>\n",
       "      <td>Kynnedi</td>\n",
       "      <td>F</td>\n",
       "      <td>0</td>\n",
       "      <td>Sanchez</td>\n",
       "      <td>99.16036</td>\n",
       "      <td>free</td>\n",
       "      <td>Cedar Rapids, IA</td>\n",
       "      <td>PUT</td>\n",
       "      <td>...</td>\n",
       "      <td>\"Mozilla/5.0 (Macintosh; Intel Mac OS X 10_8_5...</td>\n",
       "      <td>89</td>\n",
       "      <td>2018-11-21 06:52:54</td>\n",
       "      <td>2018-11-21 06:52:54.796</td>\n",
       "      <td>6</td>\n",
       "      <td>21</td>\n",
       "      <td>47</td>\n",
       "      <td>11</td>\n",
       "      <td>2018</td>\n",
       "      <td>4</td>\n",
       "    </tr>\n",
       "    <tr>\n",
       "      <th>4</th>\n",
       "      <td>Il Divo</td>\n",
       "      <td>Logged In</td>\n",
       "      <td>Kate</td>\n",
       "      <td>F</td>\n",
       "      <td>35</td>\n",
       "      <td>Harrell</td>\n",
       "      <td>229.87710</td>\n",
       "      <td>paid</td>\n",
       "      <td>Lansing-East Lansing, MI</td>\n",
       "      <td>PUT</td>\n",
       "      <td>...</td>\n",
       "      <td>\"Mozilla/5.0 (X11; Linux x86_64) AppleWebKit/5...</td>\n",
       "      <td>97</td>\n",
       "      <td>2018-11-21 19:36:22</td>\n",
       "      <td>2018-11-21 19:36:22.796</td>\n",
       "      <td>19</td>\n",
       "      <td>21</td>\n",
       "      <td>47</td>\n",
       "      <td>11</td>\n",
       "      <td>2018</td>\n",
       "      <td>4</td>\n",
       "    </tr>\n",
       "  </tbody>\n",
       "</table>\n",
       "<p>5 rows × 26 columns</p>\n",
       "</div>"
      ],
      "text/plain": [
       "                               artist       auth firstName gender  \\\n",
       "0                                Muse  Logged In     Avery      F   \n",
       "1             Marina And The Diamonds  Logged In     Avery      F   \n",
       "2  Kanye West / Consequence / Cam'Ron  Logged In    Aleena      F   \n",
       "3                            Pavement  Logged In   Kynnedi      F   \n",
       "4                             Il Divo  Logged In      Kate      F   \n",
       "\n",
       "   itemInSession lastName     length level  \\\n",
       "0              7  Watkins  304.84853  paid   \n",
       "1             56  Watkins  182.59546  paid   \n",
       "2             69    Kirby  333.34812  paid   \n",
       "3              0  Sanchez   99.16036  free   \n",
       "4             35  Harrell  229.87710  paid   \n",
       "\n",
       "                             location method   ...    \\\n",
       "0  San Jose-Sunnyvale-Santa Clara, CA    PUT   ...     \n",
       "1  San Jose-Sunnyvale-Santa Clara, CA    PUT   ...     \n",
       "2            Waterloo-Cedar Falls, IA    PUT   ...     \n",
       "3                    Cedar Rapids, IA    PUT   ...     \n",
       "4            Lansing-East Lansing, MI    PUT   ...     \n",
       "\n",
       "                                           userAgent  userId  \\\n",
       "0  Mozilla/5.0 (Windows NT 6.1; WOW64; rv:31.0) G...      30   \n",
       "1  Mozilla/5.0 (Windows NT 6.1; WOW64; rv:31.0) G...      30   \n",
       "2  Mozilla/5.0 (Macintosh; Intel Mac OS X 10.9; r...      44   \n",
       "3  \"Mozilla/5.0 (Macintosh; Intel Mac OS X 10_8_5...      89   \n",
       "4  \"Mozilla/5.0 (X11; Linux x86_64) AppleWebKit/5...      97   \n",
       "\n",
       "           ts_datetime            ts_timestamp  hour  day week month  year  \\\n",
       "0  2018-11-15 10:15:12 2018-11-15 10:15:12.796    10   15   46    11  2018   \n",
       "1  2018-11-15 13:34:30 2018-11-15 13:34:30.796    13   15   46    11  2018   \n",
       "2  2018-11-15 22:21:43 2018-11-15 22:21:43.796    22   15   46    11  2018   \n",
       "3  2018-11-21 06:52:54 2018-11-21 06:52:54.796     6   21   47    11  2018   \n",
       "4  2018-11-21 19:36:22 2018-11-21 19:36:22.796    19   21   47    11  2018   \n",
       "\n",
       "  weekday  \n",
       "0       5  \n",
       "1       5  \n",
       "2       5  \n",
       "3       4  \n",
       "4       4  \n",
       "\n",
       "[5 rows x 26 columns]"
      ]
     },
     "execution_count": 35,
     "metadata": {},
     "output_type": "execute_result"
    }
   ],
   "source": [
    "ns_log_data_with_schema_df.limit(5).toPandas()"
   ]
  },
  {
   "cell_type": "code",
   "execution_count": 36,
   "metadata": {
    "editable": true
   },
   "outputs": [
    {
     "data": {
      "text/html": [
       "<div>\n",
       "<style scoped>\n",
       "    .dataframe tbody tr th:only-of-type {\n",
       "        vertical-align: middle;\n",
       "    }\n",
       "\n",
       "    .dataframe tbody tr th {\n",
       "        vertical-align: top;\n",
       "    }\n",
       "\n",
       "    .dataframe thead th {\n",
       "        text-align: right;\n",
       "    }\n",
       "</style>\n",
       "<table border=\"1\" class=\"dataframe\">\n",
       "  <thead>\n",
       "    <tr style=\"text-align: right;\">\n",
       "      <th></th>\n",
       "      <th>ts</th>\n",
       "      <th>hour</th>\n",
       "      <th>day</th>\n",
       "      <th>week</th>\n",
       "      <th>month</th>\n",
       "      <th>year</th>\n",
       "      <th>weekday</th>\n",
       "    </tr>\n",
       "  </thead>\n",
       "  <tbody>\n",
       "    <tr>\n",
       "      <th>0</th>\n",
       "      <td>1542729770796</td>\n",
       "      <td>16</td>\n",
       "      <td>20</td>\n",
       "      <td>47</td>\n",
       "      <td>11</td>\n",
       "      <td>2018</td>\n",
       "      <td>3</td>\n",
       "    </tr>\n",
       "    <tr>\n",
       "      <th>1</th>\n",
       "      <td>1543085795796</td>\n",
       "      <td>18</td>\n",
       "      <td>24</td>\n",
       "      <td>47</td>\n",
       "      <td>11</td>\n",
       "      <td>2018</td>\n",
       "      <td>7</td>\n",
       "    </tr>\n",
       "    <tr>\n",
       "      <th>2</th>\n",
       "      <td>1543441920796</td>\n",
       "      <td>21</td>\n",
       "      <td>28</td>\n",
       "      <td>48</td>\n",
       "      <td>11</td>\n",
       "      <td>2018</td>\n",
       "      <td>4</td>\n",
       "    </tr>\n",
       "    <tr>\n",
       "      <th>3</th>\n",
       "      <td>1542795222796</td>\n",
       "      <td>10</td>\n",
       "      <td>21</td>\n",
       "      <td>47</td>\n",
       "      <td>11</td>\n",
       "      <td>2018</td>\n",
       "      <td>4</td>\n",
       "    </tr>\n",
       "    <tr>\n",
       "      <th>4</th>\n",
       "      <td>1541530372796</td>\n",
       "      <td>18</td>\n",
       "      <td>6</td>\n",
       "      <td>45</td>\n",
       "      <td>11</td>\n",
       "      <td>2018</td>\n",
       "      <td>3</td>\n",
       "    </tr>\n",
       "  </tbody>\n",
       "</table>\n",
       "</div>"
      ],
      "text/plain": [
       "              ts  hour  day  week  month  year  weekday\n",
       "0  1542729770796    16   20    47     11  2018        3\n",
       "1  1543085795796    18   24    47     11  2018        7\n",
       "2  1543441920796    21   28    48     11  2018        4\n",
       "3  1542795222796    10   21    47     11  2018        4\n",
       "4  1541530372796    18    6    45     11  2018        3"
      ]
     },
     "execution_count": 36,
     "metadata": {},
     "output_type": "execute_result"
    }
   ],
   "source": [
    "# time_table\n",
    "time_column = [\"ts\", \"hour\", \"day\", \"week\", \"month\", \"year\", \"weekday\"]\n",
    "time_table = ns_log_data_with_schema_df.select(time_column).drop_duplicates()\n",
    "time_table.limit(5).toPandas()"
   ]
  },
  {
   "cell_type": "markdown",
   "metadata": {
    "editable": true
   },
   "source": [
    "### Create a songplays_table\n",
    "This table is created from a join between song_table and log_table"
   ]
  },
  {
   "cell_type": "code",
   "execution_count": 37,
   "metadata": {
    "editable": true
   },
   "outputs": [
    {
     "name": "stdout",
     "output_type": "stream",
     "text": [
      "['artist', 'auth', 'firstName', 'gender', 'itemInSession', 'lastName', 'length', 'level', 'location', 'method', 'page', 'registration', 'sessionId', 'song', 'status', 'ts', 'userAgent', 'userId', 'ts_datetime', 'ts_timestamp', 'hour', 'day', 'week', 'month', 'year', 'weekday']\n",
      "===\n",
      "['artist_id', 'artist_latitude', 'artist_location', 'artist_longitude', 'artist_name', 'duration', 'num_songs', 'song_id', 'title', 'year']\n"
     ]
    }
   ],
   "source": [
    "print(ns_log_data_with_schema_df.columns)\n",
    "print(\"===\")\n",
    "print(song_with_schema_df.columns)"
   ]
  },
  {
   "cell_type": "code",
   "execution_count": 45,
   "metadata": {
    "editable": true
   },
   "outputs": [
    {
     "name": "stdout",
     "output_type": "stream",
     "text": [
      "+--------+\n",
      "|count(1)|\n",
      "+--------+\n",
      "|      24|\n",
      "+--------+\n",
      "\n"
     ]
    }
   ],
   "source": [
    "song_with_schema_df.createOrReplaceTempView(\"song_df\")\n",
    "\n",
    "spark.sql(\"\"\"\n",
    "    SELECT count(*)\n",
    "    FROM song_df\n",
    "\"\"\").show()"
   ]
  },
  {
   "cell_type": "code",
   "execution_count": 47,
   "metadata": {
    "editable": true
   },
   "outputs": [
    {
     "name": "stdout",
     "output_type": "stream",
     "text": [
      "Finished exporting song parquet \n"
     ]
    }
   ],
   "source": [
    "song_with_schema_df.write \\\n",
    "    .mode('overwrite') \\\n",
    "    .partitionBy('year', 'artist_name') \\\n",
    "    .parquet(\"data/data_outputs/songs/\")\n",
    "\n",
    "print(\"Finished exporting song parquet \")"
   ]
  },
  {
   "cell_type": "code",
   "execution_count": 51,
   "metadata": {
    "editable": true
   },
   "outputs": [
    {
     "name": "stdout",
     "output_type": "stream",
     "text": [
      "reading completed\n"
     ]
    }
   ],
   "source": [
    "parquet_path = \"data/data_outputs/songs/*/*/*.parquet\"\n",
    "parquet_test = spark.read.parquet(parquet_path)\n",
    "print('reading completed')\n"
   ]
  },
  {
   "cell_type": "code",
   "execution_count": 52,
   "metadata": {
    "editable": true
   },
   "outputs": [
    {
     "name": "stdout",
     "output_type": "stream",
     "text": [
      "root\n",
      " |-- artist_id: string (nullable = true)\n",
      " |-- artist_latitude: double (nullable = true)\n",
      " |-- artist_location: string (nullable = true)\n",
      " |-- artist_longitude: double (nullable = true)\n",
      " |-- duration: double (nullable = true)\n",
      " |-- num_songs: long (nullable = true)\n",
      " |-- song_id: string (nullable = true)\n",
      " |-- title: string (nullable = true)\n",
      "\n"
     ]
    }
   ],
   "source": [
    "parquet_test.printSchema()"
   ]
  },
  {
   "cell_type": "code",
   "execution_count": 39,
   "metadata": {
    "editable": true
   },
   "outputs": [
    {
     "name": "stdout",
     "output_type": "stream",
     "text": [
      "+------+---------------+------------+\n",
      "|  song|         artist| artist_name|\n",
      "+------+---------------+------------+\n",
      "|Scream|Michael Jackson|Adelitas Way|\n",
      "+------+---------------+------------+\n",
      "\n"
     ]
    }
   ],
   "source": [
    "ns_log_data_with_schema_df.createOrReplaceTempView(\"log_df\")\n",
    "song_with_schema_df.createOrReplaceTempView(\"song_df\")\n",
    "\n",
    "spark.sql(\"\"\"\n",
    "    SELECT song, artist, s.artist_name\n",
    "    FROM log_df as l\n",
    "    INNER JOIN song_df as s\n",
    "    ON s.title = l.song\n",
    "    LIMIT 10\n",
    "\"\"\").show()"
   ]
  },
  {
   "cell_type": "code",
   "execution_count": null,
   "metadata": {
    "editable": true
   },
   "outputs": [],
   "source": []
  },
  {
   "cell_type": "code",
   "execution_count": 40,
   "metadata": {
    "editable": true
   },
   "outputs": [
    {
     "name": "stdout",
     "output_type": "stream",
     "text": [
      "+------------------+---------------+---------------+----------------+------------+--------+---------+------------------+------+----+\n",
      "|         artist_id|artist_latitude|artist_location|artist_longitude| artist_name|duration|num_songs|           song_id| title|year|\n",
      "+------------------+---------------+---------------+----------------+------------+--------+---------+------------------+------+----+\n",
      "|ARJNIUY12298900C91|           null|               |            null|Adelitas Way|213.9424|        1|SOBLFFE12AF72AA5BA|Scream|2009|\n",
      "+------------------+---------------+---------------+----------------+------------+--------+---------+------------------+------+----+\n",
      "\n"
     ]
    }
   ],
   "source": [
    "song_with_schema_df.where(song_with_schema_df.title == \"Scream\").show()"
   ]
  },
  {
   "cell_type": "code",
   "execution_count": 41,
   "metadata": {
    "editable": true
   },
   "outputs": [
    {
     "name": "stdout",
     "output_type": "stream",
     "text": [
      "+---------------+---------+---------+------+-------------+--------+-------+-----+--------------------+------+--------+-----------------+---------+------+------+-------------+--------------------+------+-------------------+--------------------+----+---+----+-----+----+-------+\n",
      "|         artist|     auth|firstName|gender|itemInSession|lastName| length|level|            location|method|    page|     registration|sessionId|  song|status|           ts|           userAgent|userId|        ts_datetime|        ts_timestamp|hour|day|week|month|year|weekday|\n",
      "+---------------+---------+---------+------+-------------+--------+-------+-----+--------------------+------+--------+-----------------+---------+------+------+-------------+--------------------+------+-------------------+--------------------+----+---+----+-----+----+-------+\n",
      "|Michael Jackson|Logged In|     Kate|     F|           32| Harrell|278.282| paid|Lansing-East Lans...|   PUT|NextSong|1.540472624796E12|      605|Scream|   200|1542298745796|\"Mozilla/5.0 (X11...|    97|2018-11-15 16:19:05|2018-11-15 16:19:...|  16| 15|  46|   11|2018|      5|\n",
      "+---------------+---------+---------+------+-------------+--------+-------+-----+--------------------+------+--------+-----------------+---------+------+------+-------------+--------------------+------+-------------------+--------------------+----+---+----+-----+----+-------+\n",
      "\n"
     ]
    }
   ],
   "source": [
    "ns_log_data_with_schema_df.where(ns_log_data_with_schema_df.song == \"Scream\").show()"
   ]
  },
  {
   "cell_type": "code",
   "execution_count": 42,
   "metadata": {
    "editable": true
   },
   "outputs": [],
   "source": [
    "\n",
    "joined_song_log_df = ns_log_data_with_schema_df.join(song_with_schema_df ,\n",
    "                                                    [song_with_schema_df.title == ns_log_data_with_schema_df.song ,\n",
    "                                                    song_with_schema_df.artist_name == ns_log_data_with_schema_df.artist],\n",
    "                                                    how='inner')\n"
   ]
  },
  {
   "cell_type": "code",
   "execution_count": 43,
   "metadata": {
    "editable": true
   },
   "outputs": [
    {
     "name": "stdout",
     "output_type": "stream",
     "text": [
      "+------+----+---------+------+-------------+--------+------+-----+--------+------+----+------------+---------+----+------+---+---------+------+-----------+------------+----+---+----+-----+----+-------+---------+---------------+---------------+----------------+-----------+--------+---------+-------+-----+----+\n",
      "|artist|auth|firstName|gender|itemInSession|lastName|length|level|location|method|page|registration|sessionId|song|status| ts|userAgent|userId|ts_datetime|ts_timestamp|hour|day|week|month|year|weekday|artist_id|artist_latitude|artist_location|artist_longitude|artist_name|duration|num_songs|song_id|title|year|\n",
      "+------+----+---------+------+-------------+--------+------+-----+--------+------+----+------------+---------+----+------+---+---------+------+-----------+------------+----+---+----+-----+----+-------+---------+---------------+---------------+----------------+-----------+--------+---------+-------+-----+----+\n",
      "+------+----+---------+------+-------------+--------+------+-----+--------+------+----+------------+---------+----+------+---+---------+------+-----------+------------+----+---+----+-----+----+-------+---------+---------------+---------------+----------------+-----------+--------+---------+-------+-----+----+\n",
      "\n"
     ]
    }
   ],
   "source": [
    "joined_song_log_df.limit(5).show()"
   ]
  },
  {
   "cell_type": "code",
   "execution_count": 44,
   "metadata": {
    "editable": true
   },
   "outputs": [
    {
     "name": "stdout",
     "output_type": "stream",
     "text": [
      "+-----------+---+------+-----+-------+---------+---------+--------+---------+\n",
      "|songplay_id| ts|userId|level|song_id|artist_id|sessionId|location|userAgent|\n",
      "+-----------+---+------+-----+-------+---------+---------+--------+---------+\n",
      "+-----------+---+------+-----+-------+---------+---------+--------+---------+\n",
      "\n"
     ]
    }
   ],
   "source": [
    "# songplays_table\n",
    "\n",
    "from pyspark.sql.functions import monotonically_increasing_id\n",
    "\n",
    "songplays_column = [monotonically_increasing_id().alias('songplay_id'), \"ts\", \"userId\", \"level\", \"song_id\", \"artist_id\", \"sessionId\", \"location\", \"userAgent\"]\n",
    "songplays_table = joined_song_log_df.select(songplays_column)\n",
    "songplays_table.limit(5).show()\n"
   ]
  },
  {
   "cell_type": "code",
   "execution_count": null,
   "metadata": {
    "editable": true
   },
   "outputs": [],
   "source": []
  },
  {
   "cell_type": "code",
   "execution_count": null,
   "metadata": {
    "editable": true
   },
   "outputs": [],
   "source": []
  },
  {
   "cell_type": "code",
   "execution_count": null,
   "metadata": {
    "editable": true
   },
   "outputs": [],
   "source": []
  }
 ],
 "metadata": {
  "kernelspec": {
   "display_name": "Python 3",
   "language": "python",
   "name": "python3"
  },
  "language_info": {
   "codemirror_mode": {
    "name": "ipython",
    "version": 3
   },
   "file_extension": ".py",
   "mimetype": "text/x-python",
   "name": "python",
   "nbconvert_exporter": "python",
   "pygments_lexer": "ipython3",
   "version": "3.6.3"
  }
 },
 "nbformat": 4,
 "nbformat_minor": 4
}
